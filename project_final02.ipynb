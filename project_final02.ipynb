{
  "nbformat": 4,
  "nbformat_minor": 0,
  "metadata": {
    "colab": {
      "name": "project_final02.ipynb",
      "provenance": [],
      "collapsed_sections": []
    },
    "kernelspec": {
      "name": "python3",
      "display_name": "Python 3"
    },
    "language_info": {
      "name": "python"
    }
  },
  "cells": [
    {
      "cell_type": "code",
      "execution_count": null,
      "metadata": {
        "colab": {
          "base_uri": "https://localhost:8080/"
        },
        "id": "t0xyPbz8FaOP",
        "outputId": "e40ae71a-5dc8-4e85-c4dc-5669f2ab87df"
      },
      "outputs": [
        {
          "output_type": "stream",
          "name": "stdout",
          "text": [
            "Mounted at /content/drive/\n"
          ]
        }
      ],
      "source": [
        "# google drive 연동\n",
        "from google.colab import drive\n",
        "drive.mount('/content/drive/')"
      ]
    },
    {
      "cell_type": "code",
      "source": [
        "import os, pandas as pd\n",
        "os.chdir('/content/drive/MyDrive/jiwon')\n",
        "\n",
        "weather = pd.read_csv('해운대 날씨.csv')\n",
        "customer = pd.read_csv('해운대 입장객수2.csv')"
      ],
      "metadata": {
        "id": "Zwg4VJytFjWD"
      },
      "execution_count": null,
      "outputs": []
    },
    {
      "cell_type": "code",
      "source": [
        "import numpy as np\n",
        "import pandas as pd\n",
        "from keras.models import Sequential\n",
        "from keras.layers import Dense, LSTM, Dropout\n",
        "from keras.layers import Bidirectional\n",
        "from tensorflow.keras import optimizers\n",
        "from sklearn.model_selection import train_test_split\n",
        "from sklearn.metrics import r2_score, mean_squared_error, mean_absolute_error\n",
        "import math\n",
        "import matplotlib.pyplot as plt\n",
        "from sklearn.preprocessing import MinMaxScaler,StandardScaler\n",
        "from sklearn.preprocessing import MaxAbsScaler,RobustScaler\n",
        "from tensorflow.python.keras.callbacks import EarlyStopping, ModelCheckpoint\n",
        "import datetime\n",
        "import time\n",
        "import inspect\n",
        "\n",
        "# 날짜를 date type으로 변경 후, 나머지는 numeric type으로 변경\n",
        "weather['날짜'] = pd.to_datetime(weather['날짜'], infer_datetime_format=True)\n",
        "weather.iloc[:,1:] = weather.iloc[:,1:].apply(pd.to_numeric)\n",
        "\n",
        "customer['방문일'] = pd.to_datetime(customer['방문일'], infer_datetime_format=True)\n",
        "customer['방문객수'] = customer['방문객수'].str.replace(\",\",\"\")\n",
        "customer.iloc[:,1:] = customer.iloc[:,1:].apply(pd.to_numeric)"
      ],
      "metadata": {
        "id": "WInhZ5jLGKmG"
      },
      "execution_count": null,
      "outputs": []
    },
    {
      "cell_type": "code",
      "source": [
        "# merge data : 데이터 합치기\n",
        "total_data = pd.merge(weather, customer, left_on='날짜', right_on=\"방문일\", how='inner')\n",
        "total_data = total_data[['강수_관측값', \"기온\", \"습도\", \"체감온도\", \"평균수온\", \"평균풍속\", \"평균기압\", \"평균최대파고\", \"평균파주기\", \"방문객수\"]]\n"
      ],
      "metadata": {
        "id": "lsJd_Bg-Gjz8"
      },
      "execution_count": null,
      "outputs": []
    },
    {
      "cell_type": "code",
      "source": [
        "# 결측치 평균, 0 채우기\n",
        "total_data.loc[total_data['평균수온'] != total_data['평균수온'], '평균수온'] = total_data['평균수온'].mean()\n",
        "total_data.loc[total_data['평균풍속'] != total_data['평균풍속'], '평균풍속'] = total_data['평균풍속'].mean()\n",
        "total_data.loc[total_data['평균기압'] != total_data['평균기압'], '평균기압'] = total_data['평균기압'].mean()\n",
        "total_data.loc[total_data['평균최대파고'] != total_data['평균최대파고'], '평균최대파고'] = total_data['평균최대파고'].mean()\n",
        "total_data.loc[total_data['평균파주기'] != total_data['평균파주기'], '평균파주기'] = total_data['평균파주기'].mean()\n",
        "total_data.loc[total_data['방문객수'] != total_data['방문객수'], '방문객수'] = total_data['방문객수'].mean()\n",
        "# total_data = total_data.fillna(0)"
      ],
      "metadata": {
        "id": "JTFYu9wWGqq7"
      },
      "execution_count": null,
      "outputs": []
    },
    {
      "cell_type": "code",
      "source": [
        "input_set = total_data[[\"강수_관측값\", \"기온\", \"습도\", \"체감온도\", \"평균풍속\", \"평균기압\", \"평균수온\", \"평균최대파고\", \"평균파주기\", \"방문객수\"]]\n",
        "output_set = total_data[['강수_관측값', '기온', \"방문객수\"]]"
      ],
      "metadata": {
        "id": "O4rF2I1MGw9t"
      },
      "execution_count": null,
      "outputs": []
    },
    {
      "cell_type": "code",
      "source": [
        "train_x, test_x, train_y, test_y = train_test_split(input_set, output_set, test_size=0.2)"
      ],
      "metadata": {
        "id": "wf1IU26uG1qD"
      },
      "execution_count": null,
      "outputs": []
    },
    {
      "cell_type": "code",
      "source": [
        "train_x.shape, test_x.shape"
      ],
      "metadata": {
        "colab": {
          "base_uri": "https://localhost:8080/"
        },
        "id": "RbKWMC5RKReZ",
        "outputId": "5ac65dbe-2803-4272-b248-553aacbbd0a7"
      },
      "execution_count": null,
      "outputs": [
        {
          "output_type": "execute_result",
          "data": {
            "text/plain": [
              "((1172, 10), (293, 10))"
            ]
          },
          "metadata": {},
          "execution_count": 27
        }
      ]
    },
    {
      "cell_type": "code",
      "source": [
        "scaler = MinMaxScaler()\n",
        "train_x_scaled = scaler.fit_transform(train_x)\n",
        "test_x_scaled = scaler.transform(test_x)"
      ],
      "metadata": {
        "id": "QZNiQh2BKj2d"
      },
      "execution_count": null,
      "outputs": []
    },
    {
      "cell_type": "code",
      "source": [
        "train_x=train_x_scaled.reshape(1172, 5, 2)\n",
        "train_x = train_y.astype(float)\n",
        "test_x=test_x_scaled.reshape(293, 5, 2)\n",
        "test_x = test_y.astype(float)"
      ],
      "metadata": {
        "id": "J7JTQGvdKyGk"
      },
      "execution_count": null,
      "outputs": []
    },
    {
      "cell_type": "code",
      "source": [
        "train_y = train_y.astype(float)\n",
        "test_y = test_y.astype(float)"
      ],
      "metadata": {
        "id": "DIltAfRKK2WX"
      },
      "execution_count": null,
      "outputs": []
    },
    {
      "cell_type": "code",
      "source": [
        "train_x.shape, test_x.shape"
      ],
      "metadata": {
        "colab": {
          "base_uri": "https://localhost:8080/"
        },
        "id": "LlGOimdiK6L4",
        "outputId": "c39f6ee6-0b92-4e9d-8bec-a2c24d825064"
      },
      "execution_count": null,
      "outputs": [
        {
          "output_type": "execute_result",
          "data": {
            "text/plain": [
              "((1172, 3), (293, 3))"
            ]
          },
          "metadata": {},
          "execution_count": 31
        }
      ]
    },
    {
      "cell_type": "code",
      "source": [
        "# 2. 모델구성\n",
        "model=Sequential()\n",
        "model.add(LSTM(units=256,input_shape=(5,2),return_sequences=True))\n",
        "model.add(Bidirectional(LSTM(512)))\n",
        "model.add(Dense(256, activation='swish'))\n",
        "model.add(Dense(128, activation='relu'))\n",
        "model.add(Dense(64, activation='swish'))\n",
        "model.add(Dense(32, activation='relu'))\n",
        "model.add(Dense(16, activation='swish'))\n",
        "model.add(Dense(3))\n",
        "model.summary()"
      ],
      "metadata": {
        "colab": {
          "base_uri": "https://localhost:8080/"
        },
        "id": "2JtoU8u6K8zR",
        "outputId": "5b43a86d-89cf-452f-e6d1-cd6e22ff344a"
      },
      "execution_count": null,
      "outputs": [
        {
          "output_type": "stream",
          "name": "stdout",
          "text": [
            "Model: \"sequential\"\n",
            "_________________________________________________________________\n",
            " Layer (type)                Output Shape              Param #   \n",
            "=================================================================\n",
            " lstm (LSTM)                 (None, 5, 256)            265216    \n",
            "                                                                 \n",
            " bidirectional (Bidirectiona  (None, 1024)             3149824   \n",
            " l)                                                              \n",
            "                                                                 \n",
            " dense (Dense)               (None, 256)               262400    \n",
            "                                                                 \n",
            " dense_1 (Dense)             (None, 128)               32896     \n",
            "                                                                 \n",
            " dense_2 (Dense)             (None, 64)                8256      \n",
            "                                                                 \n",
            " dense_3 (Dense)             (None, 32)                2080      \n",
            "                                                                 \n",
            " dense_4 (Dense)             (None, 16)                528       \n",
            "                                                                 \n",
            " dense_5 (Dense)             (None, 3)                 51        \n",
            "                                                                 \n",
            "=================================================================\n",
            "Total params: 3,721,251\n",
            "Trainable params: 3,721,251\n",
            "Non-trainable params: 0\n",
            "_________________________________________________________________\n"
          ]
        }
      ]
    },
    {
      "cell_type": "code",
      "source": [
        "# 3. 컴파일 훈련\n",
        "earlyStopping = EarlyStopping(monitor='val_loss', patience=30, mode='min', verbose=1,restore_best_weights=True)\n",
        "optimizer = optimizers.Adam(learning_rate=0.001)\n",
        "model.compile(loss='mean_squared_error', optimizer=optimizer)\n",
        "hist = model.fit(train_x_scaled, train_y, epochs=500, batch_size=32, \n",
        "                validation_split=0.2,\n",
        "                callbacks = [earlyStopping],\n",
        "                verbose=2)"
      ],
      "metadata": {
        "id": "Bp_4MXVtK_Wr"
      },
      "execution_count": null,
      "outputs": []
    }
  ]
}