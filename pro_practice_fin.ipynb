{
  "nbformat": 4,
  "nbformat_minor": 0,
  "metadata": {
    "colab": {
      "name": "Untitled0.ipynb",
      "provenance": [],
      "collapsed_sections": []
    },
    "kernelspec": {
      "name": "python3",
      "display_name": "Python 3"
    },
    "language_info": {
      "name": "python"
    }
  },
  "cells": [
    {
      "cell_type": "code",
      "execution_count": 1,
      "metadata": {
        "colab": {
          "base_uri": "https://localhost:8080/"
        },
        "id": "YerBmWU2r_Yk",
        "outputId": "ec716f5f-549a-4e73-b2e3-2e33358413b2"
      },
      "outputs": [
        {
          "output_type": "stream",
          "name": "stdout",
          "text": [
            "Mounted at /content/drive/\n"
          ]
        }
      ],
      "source": [
        "# google drive 연동\n",
        "from google.colab import drive\n",
        "drive.mount('/content/drive/')"
      ]
    },
    {
      "cell_type": "code",
      "source": [
        "import os, pandas as pd\n",
        "os.chdir('/content/drive/MyDrive/숨고/임지원님(날씨 예측)')\n",
        "\n",
        "weather = pd.read_csv('해운대 날씨.csv')\n",
        "customer = pd.read_csv('해운대 입장객수.csv')"
      ],
      "metadata": {
        "id": "1Z9yA_dMsmHA"
      },
      "execution_count": 108,
      "outputs": []
    },
    {
      "cell_type": "code",
      "source": [
        "weather.head(5)"
      ],
      "metadata": {
        "colab": {
          "base_uri": "https://localhost:8080/",
          "height": 206
        },
        "id": "NpkRSB4EtqEd",
        "outputId": "9dc2159f-5755-41d2-fa6b-0adb2f26875b"
      },
      "execution_count": 109,
      "outputs": [
        {
          "output_type": "execute_result",
          "data": {
            "text/plain": [
              "           날짜  강수_관측값    기온    습도  체감온도  평균풍속    평균기압  평균수온  평균최대파고  평균파주기\n",
              "0  2012-05-01    10.5  20.4  62.1  21.5   6.5  1009.0  15.2     1.2    4.8\n",
              "1  2012-05-02     1.0  19.6  70.5  21.4   7.8  1004.0  15.5     2.1    5.7\n",
              "2  2012-05-03     0.1  20.7  77.5  22.9   4.1  1004.0  16.4     1.9    6.6\n",
              "3  2012-05-04     0.0  19.9  70.7  21.7   4.1  1006.5  16.4     1.6    7.5\n",
              "4  2012-05-05     0.0  24.8  47.2  24.7   6.1  1004.9  15.8     1.9    7.8"
            ],
            "text/html": [
              "\n",
              "  <div id=\"df-0150b7c0-8ba7-4f67-957f-30e7ed8194f8\">\n",
              "    <div class=\"colab-df-container\">\n",
              "      <div>\n",
              "<style scoped>\n",
              "    .dataframe tbody tr th:only-of-type {\n",
              "        vertical-align: middle;\n",
              "    }\n",
              "\n",
              "    .dataframe tbody tr th {\n",
              "        vertical-align: top;\n",
              "    }\n",
              "\n",
              "    .dataframe thead th {\n",
              "        text-align: right;\n",
              "    }\n",
              "</style>\n",
              "<table border=\"1\" class=\"dataframe\">\n",
              "  <thead>\n",
              "    <tr style=\"text-align: right;\">\n",
              "      <th></th>\n",
              "      <th>날짜</th>\n",
              "      <th>강수_관측값</th>\n",
              "      <th>기온</th>\n",
              "      <th>습도</th>\n",
              "      <th>체감온도</th>\n",
              "      <th>평균풍속</th>\n",
              "      <th>평균기압</th>\n",
              "      <th>평균수온</th>\n",
              "      <th>평균최대파고</th>\n",
              "      <th>평균파주기</th>\n",
              "    </tr>\n",
              "  </thead>\n",
              "  <tbody>\n",
              "    <tr>\n",
              "      <th>0</th>\n",
              "      <td>2012-05-01</td>\n",
              "      <td>10.5</td>\n",
              "      <td>20.4</td>\n",
              "      <td>62.1</td>\n",
              "      <td>21.5</td>\n",
              "      <td>6.5</td>\n",
              "      <td>1009.0</td>\n",
              "      <td>15.2</td>\n",
              "      <td>1.2</td>\n",
              "      <td>4.8</td>\n",
              "    </tr>\n",
              "    <tr>\n",
              "      <th>1</th>\n",
              "      <td>2012-05-02</td>\n",
              "      <td>1.0</td>\n",
              "      <td>19.6</td>\n",
              "      <td>70.5</td>\n",
              "      <td>21.4</td>\n",
              "      <td>7.8</td>\n",
              "      <td>1004.0</td>\n",
              "      <td>15.5</td>\n",
              "      <td>2.1</td>\n",
              "      <td>5.7</td>\n",
              "    </tr>\n",
              "    <tr>\n",
              "      <th>2</th>\n",
              "      <td>2012-05-03</td>\n",
              "      <td>0.1</td>\n",
              "      <td>20.7</td>\n",
              "      <td>77.5</td>\n",
              "      <td>22.9</td>\n",
              "      <td>4.1</td>\n",
              "      <td>1004.0</td>\n",
              "      <td>16.4</td>\n",
              "      <td>1.9</td>\n",
              "      <td>6.6</td>\n",
              "    </tr>\n",
              "    <tr>\n",
              "      <th>3</th>\n",
              "      <td>2012-05-04</td>\n",
              "      <td>0.0</td>\n",
              "      <td>19.9</td>\n",
              "      <td>70.7</td>\n",
              "      <td>21.7</td>\n",
              "      <td>4.1</td>\n",
              "      <td>1006.5</td>\n",
              "      <td>16.4</td>\n",
              "      <td>1.6</td>\n",
              "      <td>7.5</td>\n",
              "    </tr>\n",
              "    <tr>\n",
              "      <th>4</th>\n",
              "      <td>2012-05-05</td>\n",
              "      <td>0.0</td>\n",
              "      <td>24.8</td>\n",
              "      <td>47.2</td>\n",
              "      <td>24.7</td>\n",
              "      <td>6.1</td>\n",
              "      <td>1004.9</td>\n",
              "      <td>15.8</td>\n",
              "      <td>1.9</td>\n",
              "      <td>7.8</td>\n",
              "    </tr>\n",
              "  </tbody>\n",
              "</table>\n",
              "</div>\n",
              "      <button class=\"colab-df-convert\" onclick=\"convertToInteractive('df-0150b7c0-8ba7-4f67-957f-30e7ed8194f8')\"\n",
              "              title=\"Convert this dataframe to an interactive table.\"\n",
              "              style=\"display:none;\">\n",
              "        \n",
              "  <svg xmlns=\"http://www.w3.org/2000/svg\" height=\"24px\"viewBox=\"0 0 24 24\"\n",
              "       width=\"24px\">\n",
              "    <path d=\"M0 0h24v24H0V0z\" fill=\"none\"/>\n",
              "    <path d=\"M18.56 5.44l.94 2.06.94-2.06 2.06-.94-2.06-.94-.94-2.06-.94 2.06-2.06.94zm-11 1L8.5 8.5l.94-2.06 2.06-.94-2.06-.94L8.5 2.5l-.94 2.06-2.06.94zm10 10l.94 2.06.94-2.06 2.06-.94-2.06-.94-.94-2.06-.94 2.06-2.06.94z\"/><path d=\"M17.41 7.96l-1.37-1.37c-.4-.4-.92-.59-1.43-.59-.52 0-1.04.2-1.43.59L10.3 9.45l-7.72 7.72c-.78.78-.78 2.05 0 2.83L4 21.41c.39.39.9.59 1.41.59.51 0 1.02-.2 1.41-.59l7.78-7.78 2.81-2.81c.8-.78.8-2.07 0-2.86zM5.41 20L4 18.59l7.72-7.72 1.47 1.35L5.41 20z\"/>\n",
              "  </svg>\n",
              "      </button>\n",
              "      \n",
              "  <style>\n",
              "    .colab-df-container {\n",
              "      display:flex;\n",
              "      flex-wrap:wrap;\n",
              "      gap: 12px;\n",
              "    }\n",
              "\n",
              "    .colab-df-convert {\n",
              "      background-color: #E8F0FE;\n",
              "      border: none;\n",
              "      border-radius: 50%;\n",
              "      cursor: pointer;\n",
              "      display: none;\n",
              "      fill: #1967D2;\n",
              "      height: 32px;\n",
              "      padding: 0 0 0 0;\n",
              "      width: 32px;\n",
              "    }\n",
              "\n",
              "    .colab-df-convert:hover {\n",
              "      background-color: #E2EBFA;\n",
              "      box-shadow: 0px 1px 2px rgba(60, 64, 67, 0.3), 0px 1px 3px 1px rgba(60, 64, 67, 0.15);\n",
              "      fill: #174EA6;\n",
              "    }\n",
              "\n",
              "    [theme=dark] .colab-df-convert {\n",
              "      background-color: #3B4455;\n",
              "      fill: #D2E3FC;\n",
              "    }\n",
              "\n",
              "    [theme=dark] .colab-df-convert:hover {\n",
              "      background-color: #434B5C;\n",
              "      box-shadow: 0px 1px 3px 1px rgba(0, 0, 0, 0.15);\n",
              "      filter: drop-shadow(0px 1px 2px rgba(0, 0, 0, 0.3));\n",
              "      fill: #FFFFFF;\n",
              "    }\n",
              "  </style>\n",
              "\n",
              "      <script>\n",
              "        const buttonEl =\n",
              "          document.querySelector('#df-0150b7c0-8ba7-4f67-957f-30e7ed8194f8 button.colab-df-convert');\n",
              "        buttonEl.style.display =\n",
              "          google.colab.kernel.accessAllowed ? 'block' : 'none';\n",
              "\n",
              "        async function convertToInteractive(key) {\n",
              "          const element = document.querySelector('#df-0150b7c0-8ba7-4f67-957f-30e7ed8194f8');\n",
              "          const dataTable =\n",
              "            await google.colab.kernel.invokeFunction('convertToInteractive',\n",
              "                                                     [key], {});\n",
              "          if (!dataTable) return;\n",
              "\n",
              "          const docLinkHtml = 'Like what you see? Visit the ' +\n",
              "            '<a target=\"_blank\" href=https://colab.research.google.com/notebooks/data_table.ipynb>data table notebook</a>'\n",
              "            + ' to learn more about interactive tables.';\n",
              "          element.innerHTML = '';\n",
              "          dataTable['output_type'] = 'display_data';\n",
              "          await google.colab.output.renderOutput(dataTable, element);\n",
              "          const docLink = document.createElement('div');\n",
              "          docLink.innerHTML = docLinkHtml;\n",
              "          element.appendChild(docLink);\n",
              "        }\n",
              "      </script>\n",
              "    </div>\n",
              "  </div>\n",
              "  "
            ]
          },
          "metadata": {},
          "execution_count": 109
        }
      ]
    },
    {
      "cell_type": "code",
      "source": [
        "customer.head(5)"
      ],
      "metadata": {
        "colab": {
          "base_uri": "https://localhost:8080/",
          "height": 206
        },
        "id": "AW7MlvkutqCM",
        "outputId": "ec80ca35-7e2b-4d34-df36-3e812d3e2f28"
      },
      "execution_count": 110,
      "outputs": [
        {
          "output_type": "execute_result",
          "data": {
            "text/plain": [
              "          방문일 방문객수(명)\n",
              "0  2018-06-01  28,423\n",
              "1  2018-06-02  29,540\n",
              "2  2018-06-03  28,603\n",
              "3  2018-06-04  27,336\n",
              "4  2018-06-05  37,173"
            ],
            "text/html": [
              "\n",
              "  <div id=\"df-cd3eddeb-66d7-497b-9924-78d00b8290f9\">\n",
              "    <div class=\"colab-df-container\">\n",
              "      <div>\n",
              "<style scoped>\n",
              "    .dataframe tbody tr th:only-of-type {\n",
              "        vertical-align: middle;\n",
              "    }\n",
              "\n",
              "    .dataframe tbody tr th {\n",
              "        vertical-align: top;\n",
              "    }\n",
              "\n",
              "    .dataframe thead th {\n",
              "        text-align: right;\n",
              "    }\n",
              "</style>\n",
              "<table border=\"1\" class=\"dataframe\">\n",
              "  <thead>\n",
              "    <tr style=\"text-align: right;\">\n",
              "      <th></th>\n",
              "      <th>방문일</th>\n",
              "      <th>방문객수(명)</th>\n",
              "    </tr>\n",
              "  </thead>\n",
              "  <tbody>\n",
              "    <tr>\n",
              "      <th>0</th>\n",
              "      <td>2018-06-01</td>\n",
              "      <td>28,423</td>\n",
              "    </tr>\n",
              "    <tr>\n",
              "      <th>1</th>\n",
              "      <td>2018-06-02</td>\n",
              "      <td>29,540</td>\n",
              "    </tr>\n",
              "    <tr>\n",
              "      <th>2</th>\n",
              "      <td>2018-06-03</td>\n",
              "      <td>28,603</td>\n",
              "    </tr>\n",
              "    <tr>\n",
              "      <th>3</th>\n",
              "      <td>2018-06-04</td>\n",
              "      <td>27,336</td>\n",
              "    </tr>\n",
              "    <tr>\n",
              "      <th>4</th>\n",
              "      <td>2018-06-05</td>\n",
              "      <td>37,173</td>\n",
              "    </tr>\n",
              "  </tbody>\n",
              "</table>\n",
              "</div>\n",
              "      <button class=\"colab-df-convert\" onclick=\"convertToInteractive('df-cd3eddeb-66d7-497b-9924-78d00b8290f9')\"\n",
              "              title=\"Convert this dataframe to an interactive table.\"\n",
              "              style=\"display:none;\">\n",
              "        \n",
              "  <svg xmlns=\"http://www.w3.org/2000/svg\" height=\"24px\"viewBox=\"0 0 24 24\"\n",
              "       width=\"24px\">\n",
              "    <path d=\"M0 0h24v24H0V0z\" fill=\"none\"/>\n",
              "    <path d=\"M18.56 5.44l.94 2.06.94-2.06 2.06-.94-2.06-.94-.94-2.06-.94 2.06-2.06.94zm-11 1L8.5 8.5l.94-2.06 2.06-.94-2.06-.94L8.5 2.5l-.94 2.06-2.06.94zm10 10l.94 2.06.94-2.06 2.06-.94-2.06-.94-.94-2.06-.94 2.06-2.06.94z\"/><path d=\"M17.41 7.96l-1.37-1.37c-.4-.4-.92-.59-1.43-.59-.52 0-1.04.2-1.43.59L10.3 9.45l-7.72 7.72c-.78.78-.78 2.05 0 2.83L4 21.41c.39.39.9.59 1.41.59.51 0 1.02-.2 1.41-.59l7.78-7.78 2.81-2.81c.8-.78.8-2.07 0-2.86zM5.41 20L4 18.59l7.72-7.72 1.47 1.35L5.41 20z\"/>\n",
              "  </svg>\n",
              "      </button>\n",
              "      \n",
              "  <style>\n",
              "    .colab-df-container {\n",
              "      display:flex;\n",
              "      flex-wrap:wrap;\n",
              "      gap: 12px;\n",
              "    }\n",
              "\n",
              "    .colab-df-convert {\n",
              "      background-color: #E8F0FE;\n",
              "      border: none;\n",
              "      border-radius: 50%;\n",
              "      cursor: pointer;\n",
              "      display: none;\n",
              "      fill: #1967D2;\n",
              "      height: 32px;\n",
              "      padding: 0 0 0 0;\n",
              "      width: 32px;\n",
              "    }\n",
              "\n",
              "    .colab-df-convert:hover {\n",
              "      background-color: #E2EBFA;\n",
              "      box-shadow: 0px 1px 2px rgba(60, 64, 67, 0.3), 0px 1px 3px 1px rgba(60, 64, 67, 0.15);\n",
              "      fill: #174EA6;\n",
              "    }\n",
              "\n",
              "    [theme=dark] .colab-df-convert {\n",
              "      background-color: #3B4455;\n",
              "      fill: #D2E3FC;\n",
              "    }\n",
              "\n",
              "    [theme=dark] .colab-df-convert:hover {\n",
              "      background-color: #434B5C;\n",
              "      box-shadow: 0px 1px 3px 1px rgba(0, 0, 0, 0.15);\n",
              "      filter: drop-shadow(0px 1px 2px rgba(0, 0, 0, 0.3));\n",
              "      fill: #FFFFFF;\n",
              "    }\n",
              "  </style>\n",
              "\n",
              "      <script>\n",
              "        const buttonEl =\n",
              "          document.querySelector('#df-cd3eddeb-66d7-497b-9924-78d00b8290f9 button.colab-df-convert');\n",
              "        buttonEl.style.display =\n",
              "          google.colab.kernel.accessAllowed ? 'block' : 'none';\n",
              "\n",
              "        async function convertToInteractive(key) {\n",
              "          const element = document.querySelector('#df-cd3eddeb-66d7-497b-9924-78d00b8290f9');\n",
              "          const dataTable =\n",
              "            await google.colab.kernel.invokeFunction('convertToInteractive',\n",
              "                                                     [key], {});\n",
              "          if (!dataTable) return;\n",
              "\n",
              "          const docLinkHtml = 'Like what you see? Visit the ' +\n",
              "            '<a target=\"_blank\" href=https://colab.research.google.com/notebooks/data_table.ipynb>data table notebook</a>'\n",
              "            + ' to learn more about interactive tables.';\n",
              "          element.innerHTML = '';\n",
              "          dataTable['output_type'] = 'display_data';\n",
              "          await google.colab.output.renderOutput(dataTable, element);\n",
              "          const docLink = document.createElement('div');\n",
              "          docLink.innerHTML = docLinkHtml;\n",
              "          element.appendChild(docLink);\n",
              "        }\n",
              "      </script>\n",
              "    </div>\n",
              "  </div>\n",
              "  "
            ]
          },
          "metadata": {},
          "execution_count": 110
        }
      ]
    },
    {
      "cell_type": "code",
      "source": [
        "import numpy as np\n",
        "import pandas as pd\n",
        "from keras.models import Sequential\n",
        "from keras.layers import Dense, LSTM, Dropout\n",
        "from keras.layers import Bidirectional\n",
        "from tensorflow.keras import optimizers\n",
        "from sklearn.model_selection import train_test_split\n",
        "from sklearn.metrics import r2_score, mean_squared_error, mean_absolute_error\n",
        "import math\n",
        "import matplotlib.pyplot as plt\n",
        "from sklearn.preprocessing import MinMaxScaler\n",
        "from tensorflow.python.keras.callbacks import EarlyStopping, ModelCheckpoint\n",
        "import datetime\n",
        "import time\n",
        "import inspect\n",
        "\n",
        "# 날짜를 date type으로 변경 후, 나머지는 numeric type으로 변경\n",
        "weather['날짜'] = pd.to_datetime(weather['날짜'], infer_datetime_format=True)\n",
        "weather.iloc[:,1:] = weather.iloc[:,1:].apply(pd.to_numeric)\n",
        "\n",
        "customer['방문일'] = pd.to_datetime(customer['방문일'], infer_datetime_format=True)\n",
        "customer['방문객수(명)'] = customer['방문객수(명)'].str.replace(\",\",\"\")\n",
        "customer.iloc[:,1:] = customer.iloc[:,1:].apply(pd.to_numeric)"
      ],
      "metadata": {
        "id": "Otkr69l0tg0t"
      },
      "execution_count": 112,
      "outputs": []
    },
    {
      "cell_type": "code",
      "source": [
        "weather.info()"
      ],
      "metadata": {
        "colab": {
          "base_uri": "https://localhost:8080/"
        },
        "id": "3p7jbT0T0elD",
        "outputId": "e91325d1-2fbd-4807-fe12-74b19260ca1a"
      },
      "execution_count": 113,
      "outputs": [
        {
          "output_type": "stream",
          "name": "stdout",
          "text": [
            "<class 'pandas.core.frame.DataFrame'>\n",
            "RangeIndex: 1618 entries, 0 to 1617\n",
            "Data columns (total 10 columns):\n",
            " #   Column  Non-Null Count  Dtype         \n",
            "---  ------  --------------  -----         \n",
            " 0   날짜      1618 non-null   datetime64[ns]\n",
            " 1   강수_관측값  1618 non-null   float64       \n",
            " 2   기온      1618 non-null   float64       \n",
            " 3   습도      1618 non-null   float64       \n",
            " 4   체감온도    1618 non-null   float64       \n",
            " 5   평균풍속    1567 non-null   float64       \n",
            " 6   평균기압    1557 non-null   float64       \n",
            " 7   평균수온    1511 non-null   float64       \n",
            " 8   평균최대파고  1552 non-null   float64       \n",
            " 9   평균파주기   1551 non-null   float64       \n",
            "dtypes: datetime64[ns](1), float64(9)\n",
            "memory usage: 126.5 KB\n"
          ]
        }
      ]
    },
    {
      "cell_type": "code",
      "source": [
        "customer.info()"
      ],
      "metadata": {
        "colab": {
          "base_uri": "https://localhost:8080/"
        },
        "id": "VTQP49F60ei-",
        "outputId": "30866dbd-dac2-4a50-cfd6-25e3a4a85920"
      },
      "execution_count": 114,
      "outputs": [
        {
          "output_type": "stream",
          "name": "stdout",
          "text": [
            "<class 'pandas.core.frame.DataFrame'>\n",
            "RangeIndex: 332 entries, 0 to 331\n",
            "Data columns (total 2 columns):\n",
            " #   Column   Non-Null Count  Dtype         \n",
            "---  ------   --------------  -----         \n",
            " 0   방문일      332 non-null    datetime64[ns]\n",
            " 1   방문객수(명)  332 non-null    int64         \n",
            "dtypes: datetime64[ns](1), int64(1)\n",
            "memory usage: 5.3 KB\n"
          ]
        }
      ]
    },
    {
      "cell_type": "code",
      "source": [
        "# merge data : 방문객수 예측을 위한 데이터\n",
        "total_data = pd.merge(weather, customer, left_on='날짜', right_on=\"방문일\", how='inner')\n",
        "total_data = total_data[['강수_관측값', \"기온\", \"습도\", \"체감온도\", \"평균수온\", \"평균풍속\", \"평균기압\", \"평균최대파고\", \"평균파주기\", \"방문객수(명)\"]]\n",
        "\n",
        "# weather data : 날씨 예측을 위한 데이터(na는 제거하는 방향으로 일단 진행)\n",
        "weather = weather.dropna()"
      ],
      "metadata": {
        "id": "MNrTID4vFigs"
      },
      "execution_count": 115,
      "outputs": []
    },
    {
      "cell_type": "markdown",
      "source": [
        "## 방문객 수 예측"
      ],
      "metadata": {
        "id": "BjYggYR-JBWJ"
      }
    },
    {
      "cell_type": "code",
      "source": [
        "# 방문객 수 예측을 위한 train/test split\n",
        "train_x, test_x, train_y, test_y = train_test_split(total_data.iloc[:, :-1], total_data['방문객수(명)'], test_size=0.2)"
      ],
      "metadata": {
        "id": "f6h_mUXT0eeY"
      },
      "execution_count": 116,
      "outputs": []
    },
    {
      "cell_type": "code",
      "source": [
        "# 방문객 수 예측을 위한  minmax scaler\n",
        "x_mm_scaler = MinMaxScaler()\n",
        "train_x_scaled = x_mm_scaler.fit_transform(train_x)\n",
        "test_x_scaled = x_mm_scaler.transform(test_x)"
      ],
      "metadata": {
        "id": "VTm66mQo0ecJ"
      },
      "execution_count": 117,
      "outputs": []
    },
    {
      "cell_type": "code",
      "source": [
        "# 방문객 수 예측을 위한  model training\n",
        "model=Sequential()\n",
        "model.add(Dense(256,input_dim=9, activation='relu'))\n",
        "model.add(Dropout(0.3))\n",
        "model.add(Dense(128, activation='relu'))\n",
        "model.add(Dropout(0.3))\n",
        "model.add(Dense(64, activation='relu'))\n",
        "model.add(Dropout(0.3))\n",
        "model.add(Dense(1))\n",
        "model.summary()"
      ],
      "metadata": {
        "id": "t7LEHUe40eZ5",
        "colab": {
          "base_uri": "https://localhost:8080/"
        },
        "outputId": "5c894634-4028-469f-aee4-8f06685dd23c"
      },
      "execution_count": null,
      "outputs": [
        {
          "output_type": "stream",
          "name": "stdout",
          "text": [
            "Model: \"sequential_10\"\n",
            "_________________________________________________________________\n",
            "Layer (type)                 Output Shape              Param #   \n",
            "=================================================================\n",
            "dense_41 (Dense)             (None, 256)               2560      \n",
            "_________________________________________________________________\n",
            "dropout_16 (Dropout)         (None, 256)               0         \n",
            "_________________________________________________________________\n",
            "dense_42 (Dense)             (None, 128)               32896     \n",
            "_________________________________________________________________\n",
            "dropout_17 (Dropout)         (None, 128)               0         \n",
            "_________________________________________________________________\n",
            "dense_43 (Dense)             (None, 64)                8256      \n",
            "_________________________________________________________________\n",
            "dropout_18 (Dropout)         (None, 64)                0         \n",
            "_________________________________________________________________\n",
            "dense_44 (Dense)             (None, 1)                 65        \n",
            "=================================================================\n",
            "Total params: 43,777\n",
            "Trainable params: 43,777\n",
            "Non-trainable params: 0\n",
            "_________________________________________________________________\n"
          ]
        }
      ]
    },
    {
      "cell_type": "code",
      "source": [
        "# 학습 진행\n",
        "earlyStopping=EarlyStopping(monitor='val_loss',patience=10,mode='min',verbose=1,restore_best_weights=True) \n",
        "model.compile(loss='mse',optimizer='adam')\n",
        "hist=model.fit(train_x_scaled,train_y,epochs=500,batch_size=16,validation_split=0.1, callbacks=[earlyStopping])"
      ],
      "metadata": {
        "id": "z0dtixXcG403"
      },
      "execution_count": null,
      "outputs": []
    },
    {
      "cell_type": "code",
      "source": [
        "loss=model.evaluate(test_x_scaled,test_y)\n",
        "pred_y=model.predict(test_x_scaled)\n",
        "\n",
        "print('loss: ',loss)\n",
        "print('예상 입장객 수: ', pred_y[-1:])"
      ],
      "metadata": {
        "id": "wuYtJpI78Ldr",
        "colab": {
          "base_uri": "https://localhost:8080/"
        },
        "outputId": "33d9dc40-9a64-46f3-e353-4f3aaa3534fe"
      },
      "execution_count": null,
      "outputs": [
        {
          "output_type": "stream",
          "name": "stdout",
          "text": [
            "2/2 [==============================] - 0s 11ms/step - loss: 3316367872.0000\n",
            "loss:  3316367872.0\n",
            "예상 입장객 수:  [[61907.344]]\n"
          ]
        }
      ]
    },
    {
      "cell_type": "markdown",
      "source": [
        "## 강수_관측값 예측"
      ],
      "metadata": {
        "id": "SDsFe84lJEDn"
      }
    },
    {
      "cell_type": "code",
      "source": [
        "# 사용 데이터\n",
        "weather.info()\n",
        "\n",
        "# input data\n",
        "weather_input = weather[[\"기온\", \"습도\", \"체감온도\", \"평균수온\", \"평균풍속\", \"평균기압\", \"평균최대파고\", \"평균파주기\"]]\n",
        "weather_output = weather[['강수_관측값']]"
      ],
      "metadata": {
        "colab": {
          "base_uri": "https://localhost:8080/"
        },
        "id": "LYVOJdACJx1v",
        "outputId": "dcef5a9e-165a-4944-d9d2-bab068a168b0"
      },
      "execution_count": 118,
      "outputs": [
        {
          "output_type": "stream",
          "name": "stdout",
          "text": [
            "<class 'pandas.core.frame.DataFrame'>\n",
            "Int64Index: 1486 entries, 0 to 1617\n",
            "Data columns (total 10 columns):\n",
            " #   Column  Non-Null Count  Dtype         \n",
            "---  ------  --------------  -----         \n",
            " 0   날짜      1486 non-null   datetime64[ns]\n",
            " 1   강수_관측값  1486 non-null   float64       \n",
            " 2   기온      1486 non-null   float64       \n",
            " 3   습도      1486 non-null   float64       \n",
            " 4   체감온도    1486 non-null   float64       \n",
            " 5   평균풍속    1486 non-null   float64       \n",
            " 6   평균기압    1486 non-null   float64       \n",
            " 7   평균수온    1486 non-null   float64       \n",
            " 8   평균최대파고  1486 non-null   float64       \n",
            " 9   평균파주기   1486 non-null   float64       \n",
            "dtypes: datetime64[ns](1), float64(9)\n",
            "memory usage: 127.7 KB\n"
          ]
        }
      ]
    },
    {
      "cell_type": "code",
      "source": [
        "# 강수_관측값 예측을 위한 train/test split\n",
        "train_x, test_x, train_y, test_y = train_test_split(weather_input.values, weather_output.values, test_size=0.2)"
      ],
      "metadata": {
        "id": "b7jPTgp4Mgf6"
      },
      "execution_count": 119,
      "outputs": []
    },
    {
      "cell_type": "code",
      "source": [
        "# 강수_관측값 예측을 위한  minmax scaler\n",
        "x_mm_scaler = MinMaxScaler()\n",
        "train_x_scaled = x_mm_scaler.fit_transform(train_x)\n",
        "test_x_scaled = x_mm_scaler.transform(test_x)"
      ],
      "metadata": {
        "id": "_2sTPesjMFi5"
      },
      "execution_count": 120,
      "outputs": []
    },
    {
      "cell_type": "code",
      "source": [
        "# 강수_관측값 예측을 위한 data reshape\n",
        "train_x_scaled = train_x_scaled.reshape(-1, 1, 8)\n",
        "train_x_scaled = train_x_scaled.astype(float)\n",
        "test_x_scaled = test_x_scaled.reshape(-1, 1, 8)\n",
        "test_x_scaled = test_x_scaled.astype(float)"
      ],
      "metadata": {
        "id": "1u91b7POLeCo"
      },
      "execution_count": 121,
      "outputs": []
    },
    {
      "cell_type": "code",
      "source": [
        "train_y = train_y.astype(float)\n",
        "test_y = test_y.astype(float)"
      ],
      "metadata": {
        "id": "hzSWavKv8cKo"
      },
      "execution_count": 122,
      "outputs": []
    },
    {
      "cell_type": "code",
      "source": [
        "# 강수_관측값 예측을 위한 lstm 학습\n",
        "model=Sequential()\n",
        "model.add(LSTM(units=128, return_sequences=True, input_shape=(1,8)))\n",
        "model.add(Dense(32, activation='relu'))\n",
        "model.add(Dense(1))\n",
        "model.summary()"
      ],
      "metadata": {
        "colab": {
          "base_uri": "https://localhost:8080/"
        },
        "id": "6vCM5bQwLpJA",
        "outputId": "3a8621f6-594b-47ad-c0ce-bdcd36d190d6"
      },
      "execution_count": 137,
      "outputs": [
        {
          "output_type": "stream",
          "name": "stdout",
          "text": [
            "Model: \"sequential_6\"\n",
            "_________________________________________________________________\n",
            " Layer (type)                Output Shape              Param #   \n",
            "=================================================================\n",
            " lstm_14 (LSTM)              (None, 1, 128)            70144     \n",
            "                                                                 \n",
            " dense_13 (Dense)            (None, 1, 32)             4128      \n",
            "                                                                 \n",
            " dense_14 (Dense)            (None, 1, 1)              33        \n",
            "                                                                 \n",
            "=================================================================\n",
            "Total params: 74,305\n",
            "Trainable params: 74,305\n",
            "Non-trainable params: 0\n",
            "_________________________________________________________________\n"
          ]
        }
      ]
    },
    {
      "cell_type": "code",
      "source": [
        "# 학습 진행\n",
        "earlyStopping = EarlyStopping(monitor='val_loss', patience=30, mode='min', verbose=1,restore_best_weights=True)\n",
        "optimizer = optimizers.Adam(learning_rate=0.001)\n",
        "model.compile(loss='mean_squared_error', optimizer=optimizer)\n",
        "hist = model.fit(train_x_scaled, train_y, epochs=500, batch_size=32, \n",
        "                validation_split=0.2,\n",
        "                callbacks = [earlyStopping],\n",
        "                verbose=2)"
      ],
      "metadata": {
        "colab": {
          "base_uri": "https://localhost:8080/"
        },
        "id": "FOcJhjgYM_yY",
        "outputId": "e9b48ec0-9aa6-46b9-c533-6a1fdbe6e6f7"
      },
      "execution_count": 139,
      "outputs": [
        {
          "output_type": "stream",
          "name": "stdout",
          "text": [
            "Epoch 1/500\n",
            "30/30 - 5s - loss: 412.6611 - val_loss: 407.9982 - 5s/epoch - 153ms/step\n",
            "Epoch 2/500\n",
            "30/30 - 0s - loss: 406.0373 - val_loss: 400.8677 - 117ms/epoch - 4ms/step\n",
            "Epoch 3/500\n",
            "30/30 - 0s - loss: 399.2627 - val_loss: 393.6810 - 128ms/epoch - 4ms/step\n",
            "Epoch 4/500\n",
            "30/30 - 0s - loss: 392.1417 - val_loss: 385.1298 - 120ms/epoch - 4ms/step\n",
            "Epoch 5/500\n",
            "30/30 - 0s - loss: 384.9869 - val_loss: 378.1822 - 122ms/epoch - 4ms/step\n",
            "Epoch 6/500\n",
            "30/30 - 0s - loss: 379.7222 - val_loss: 369.6219 - 131ms/epoch - 4ms/step\n",
            "Epoch 7/500\n",
            "30/30 - 0s - loss: 371.8124 - val_loss: 363.2657 - 127ms/epoch - 4ms/step\n",
            "Epoch 8/500\n",
            "30/30 - 0s - loss: 366.9465 - val_loss: 355.6311 - 129ms/epoch - 4ms/step\n",
            "Epoch 9/500\n",
            "30/30 - 0s - loss: 361.2654 - val_loss: 348.8982 - 138ms/epoch - 5ms/step\n",
            "Epoch 10/500\n",
            "30/30 - 0s - loss: 358.5368 - val_loss: 347.4610 - 176ms/epoch - 6ms/step\n",
            "Epoch 11/500\n",
            "30/30 - 0s - loss: 352.4493 - val_loss: 343.2360 - 202ms/epoch - 7ms/step\n",
            "Epoch 12/500\n",
            "30/30 - 0s - loss: 347.5667 - val_loss: 335.4322 - 215ms/epoch - 7ms/step\n",
            "Epoch 13/500\n",
            "30/30 - 0s - loss: 343.4701 - val_loss: 330.4308 - 246ms/epoch - 8ms/step\n",
            "Epoch 14/500\n",
            "30/30 - 0s - loss: 343.1292 - val_loss: 327.9884 - 263ms/epoch - 9ms/step\n",
            "Epoch 15/500\n",
            "30/30 - 0s - loss: 338.9134 - val_loss: 327.7944 - 219ms/epoch - 7ms/step\n",
            "Epoch 16/500\n",
            "30/30 - 0s - loss: 333.0275 - val_loss: 320.3940 - 269ms/epoch - 9ms/step\n",
            "Epoch 17/500\n",
            "30/30 - 0s - loss: 331.2142 - val_loss: 316.0247 - 214ms/epoch - 7ms/step\n",
            "Epoch 18/500\n",
            "30/30 - 0s - loss: 326.9969 - val_loss: 314.4166 - 222ms/epoch - 7ms/step\n",
            "Epoch 19/500\n",
            "30/30 - 0s - loss: 326.1470 - val_loss: 310.5493 - 211ms/epoch - 7ms/step\n",
            "Epoch 20/500\n",
            "30/30 - 0s - loss: 325.3210 - val_loss: 310.6988 - 203ms/epoch - 7ms/step\n",
            "Epoch 21/500\n",
            "30/30 - 0s - loss: 321.7313 - val_loss: 308.5660 - 226ms/epoch - 8ms/step\n",
            "Epoch 22/500\n",
            "30/30 - 0s - loss: 320.5537 - val_loss: 306.2242 - 343ms/epoch - 11ms/step\n",
            "Epoch 23/500\n",
            "30/30 - 0s - loss: 318.9483 - val_loss: 306.2393 - 328ms/epoch - 11ms/step\n",
            "Epoch 24/500\n",
            "30/30 - 0s - loss: 318.2178 - val_loss: 305.2339 - 340ms/epoch - 11ms/step\n",
            "Epoch 25/500\n",
            "30/30 - 0s - loss: 315.6504 - val_loss: 302.0908 - 302ms/epoch - 10ms/step\n",
            "Epoch 26/500\n",
            "30/30 - 0s - loss: 314.3515 - val_loss: 299.7946 - 296ms/epoch - 10ms/step\n",
            "Epoch 27/500\n",
            "30/30 - 0s - loss: 313.6952 - val_loss: 304.1276 - 120ms/epoch - 4ms/step\n",
            "Epoch 28/500\n",
            "30/30 - 0s - loss: 315.6068 - val_loss: 297.1684 - 137ms/epoch - 5ms/step\n",
            "Epoch 29/500\n",
            "30/30 - 0s - loss: 310.8911 - val_loss: 299.9967 - 132ms/epoch - 4ms/step\n",
            "Epoch 30/500\n",
            "30/30 - 0s - loss: 311.0330 - val_loss: 296.2809 - 124ms/epoch - 4ms/step\n",
            "Epoch 31/500\n",
            "30/30 - 0s - loss: 310.4537 - val_loss: 293.8972 - 118ms/epoch - 4ms/step\n",
            "Epoch 32/500\n",
            "30/30 - 0s - loss: 311.1510 - val_loss: 296.5404 - 119ms/epoch - 4ms/step\n",
            "Epoch 33/500\n",
            "30/30 - 0s - loss: 309.3049 - val_loss: 293.5151 - 124ms/epoch - 4ms/step\n",
            "Epoch 34/500\n",
            "30/30 - 0s - loss: 308.2737 - val_loss: 292.0707 - 126ms/epoch - 4ms/step\n",
            "Epoch 35/500\n",
            "30/30 - 0s - loss: 309.0161 - val_loss: 296.0402 - 124ms/epoch - 4ms/step\n",
            "Epoch 36/500\n",
            "30/30 - 0s - loss: 305.7737 - val_loss: 290.3099 - 128ms/epoch - 4ms/step\n",
            "Epoch 37/500\n",
            "30/30 - 0s - loss: 306.7686 - val_loss: 291.6839 - 126ms/epoch - 4ms/step\n",
            "Epoch 38/500\n",
            "30/30 - 0s - loss: 307.4970 - val_loss: 289.0645 - 122ms/epoch - 4ms/step\n",
            "Epoch 39/500\n",
            "30/30 - 0s - loss: 307.3445 - val_loss: 289.0605 - 126ms/epoch - 4ms/step\n",
            "Epoch 40/500\n",
            "30/30 - 0s - loss: 307.0235 - val_loss: 289.7464 - 122ms/epoch - 4ms/step\n",
            "Epoch 41/500\n",
            "30/30 - 0s - loss: 307.0051 - val_loss: 290.5595 - 130ms/epoch - 4ms/step\n",
            "Epoch 42/500\n",
            "30/30 - 0s - loss: 304.0583 - val_loss: 287.8238 - 127ms/epoch - 4ms/step\n",
            "Epoch 43/500\n",
            "30/30 - 0s - loss: 302.8331 - val_loss: 288.7775 - 124ms/epoch - 4ms/step\n",
            "Epoch 44/500\n",
            "30/30 - 0s - loss: 303.5187 - val_loss: 288.7547 - 124ms/epoch - 4ms/step\n",
            "Epoch 45/500\n",
            "30/30 - 0s - loss: 302.4062 - val_loss: 292.0334 - 134ms/epoch - 4ms/step\n",
            "Epoch 46/500\n",
            "30/30 - 0s - loss: 302.7762 - val_loss: 290.3764 - 122ms/epoch - 4ms/step\n",
            "Epoch 47/500\n",
            "30/30 - 0s - loss: 302.9671 - val_loss: 290.0808 - 124ms/epoch - 4ms/step\n",
            "Epoch 48/500\n",
            "30/30 - 0s - loss: 301.3380 - val_loss: 284.5225 - 129ms/epoch - 4ms/step\n",
            "Epoch 49/500\n",
            "30/30 - 0s - loss: 301.4163 - val_loss: 286.5306 - 120ms/epoch - 4ms/step\n",
            "Epoch 50/500\n",
            "30/30 - 0s - loss: 300.6849 - val_loss: 285.1274 - 118ms/epoch - 4ms/step\n",
            "Epoch 51/500\n",
            "30/30 - 0s - loss: 300.2863 - val_loss: 285.1998 - 124ms/epoch - 4ms/step\n",
            "Epoch 52/500\n",
            "30/30 - 0s - loss: 300.2443 - val_loss: 288.7425 - 131ms/epoch - 4ms/step\n",
            "Epoch 53/500\n",
            "30/30 - 0s - loss: 298.7620 - val_loss: 286.8495 - 151ms/epoch - 5ms/step\n",
            "Epoch 54/500\n",
            "30/30 - 0s - loss: 300.8461 - val_loss: 284.9987 - 119ms/epoch - 4ms/step\n",
            "Epoch 55/500\n",
            "30/30 - 0s - loss: 299.3409 - val_loss: 285.3940 - 115ms/epoch - 4ms/step\n",
            "Epoch 56/500\n",
            "30/30 - 0s - loss: 299.0479 - val_loss: 289.3229 - 117ms/epoch - 4ms/step\n",
            "Epoch 57/500\n",
            "30/30 - 0s - loss: 299.4623 - val_loss: 284.2597 - 121ms/epoch - 4ms/step\n",
            "Epoch 58/500\n",
            "30/30 - 0s - loss: 299.2372 - val_loss: 286.8382 - 123ms/epoch - 4ms/step\n",
            "Epoch 59/500\n",
            "30/30 - 0s - loss: 297.9437 - val_loss: 286.9542 - 118ms/epoch - 4ms/step\n",
            "Epoch 60/500\n",
            "30/30 - 0s - loss: 299.3821 - val_loss: 292.4355 - 133ms/epoch - 4ms/step\n",
            "Epoch 61/500\n",
            "30/30 - 0s - loss: 298.7910 - val_loss: 284.3355 - 130ms/epoch - 4ms/step\n",
            "Epoch 62/500\n",
            "30/30 - 0s - loss: 297.0276 - val_loss: 291.0652 - 131ms/epoch - 4ms/step\n",
            "Epoch 63/500\n",
            "30/30 - 0s - loss: 297.6925 - val_loss: 284.2766 - 131ms/epoch - 4ms/step\n",
            "Epoch 64/500\n",
            "30/30 - 0s - loss: 299.6509 - val_loss: 283.1784 - 127ms/epoch - 4ms/step\n",
            "Epoch 65/500\n",
            "30/30 - 0s - loss: 296.0693 - val_loss: 285.2148 - 118ms/epoch - 4ms/step\n",
            "Epoch 66/500\n",
            "30/30 - 0s - loss: 299.0181 - val_loss: 285.9371 - 133ms/epoch - 4ms/step\n",
            "Epoch 67/500\n",
            "30/30 - 0s - loss: 296.5240 - val_loss: 282.0377 - 120ms/epoch - 4ms/step\n",
            "Epoch 68/500\n",
            "30/30 - 0s - loss: 295.9412 - val_loss: 288.8802 - 126ms/epoch - 4ms/step\n",
            "Epoch 69/500\n",
            "30/30 - 0s - loss: 298.2233 - val_loss: 281.9068 - 123ms/epoch - 4ms/step\n",
            "Epoch 70/500\n",
            "30/30 - 0s - loss: 296.6701 - val_loss: 288.9394 - 129ms/epoch - 4ms/step\n",
            "Epoch 71/500\n",
            "30/30 - 0s - loss: 298.8847 - val_loss: 280.8063 - 131ms/epoch - 4ms/step\n",
            "Epoch 72/500\n",
            "30/30 - 0s - loss: 295.6574 - val_loss: 282.9106 - 125ms/epoch - 4ms/step\n",
            "Epoch 73/500\n",
            "30/30 - 0s - loss: 294.5743 - val_loss: 283.6114 - 131ms/epoch - 4ms/step\n",
            "Epoch 74/500\n",
            "30/30 - 0s - loss: 296.4791 - val_loss: 288.9447 - 128ms/epoch - 4ms/step\n",
            "Epoch 75/500\n",
            "30/30 - 0s - loss: 293.7239 - val_loss: 283.8693 - 141ms/epoch - 5ms/step\n",
            "Epoch 76/500\n",
            "30/30 - 0s - loss: 294.3345 - val_loss: 282.8273 - 139ms/epoch - 5ms/step\n",
            "Epoch 77/500\n",
            "30/30 - 0s - loss: 294.2511 - val_loss: 282.4925 - 130ms/epoch - 4ms/step\n",
            "Epoch 78/500\n",
            "30/30 - 0s - loss: 296.8197 - val_loss: 280.1493 - 124ms/epoch - 4ms/step\n",
            "Epoch 79/500\n",
            "30/30 - 0s - loss: 294.9626 - val_loss: 296.8173 - 125ms/epoch - 4ms/step\n",
            "Epoch 80/500\n",
            "30/30 - 0s - loss: 296.5463 - val_loss: 285.5450 - 136ms/epoch - 5ms/step\n",
            "Epoch 81/500\n",
            "30/30 - 0s - loss: 292.3809 - val_loss: 281.7312 - 130ms/epoch - 4ms/step\n",
            "Epoch 82/500\n",
            "30/30 - 0s - loss: 293.0721 - val_loss: 280.4544 - 129ms/epoch - 4ms/step\n",
            "Epoch 83/500\n",
            "30/30 - 0s - loss: 292.1469 - val_loss: 285.5891 - 125ms/epoch - 4ms/step\n",
            "Epoch 84/500\n",
            "30/30 - 0s - loss: 296.7094 - val_loss: 291.9936 - 134ms/epoch - 4ms/step\n",
            "Epoch 85/500\n",
            "30/30 - 0s - loss: 293.7512 - val_loss: 281.0767 - 142ms/epoch - 5ms/step\n",
            "Epoch 86/500\n",
            "30/30 - 0s - loss: 291.6776 - val_loss: 282.9625 - 120ms/epoch - 4ms/step\n",
            "Epoch 87/500\n",
            "30/30 - 0s - loss: 296.8330 - val_loss: 286.3193 - 133ms/epoch - 4ms/step\n",
            "Epoch 88/500\n",
            "30/30 - 0s - loss: 293.8205 - val_loss: 281.5233 - 125ms/epoch - 4ms/step\n",
            "Epoch 89/500\n",
            "30/30 - 0s - loss: 300.3121 - val_loss: 279.5960 - 124ms/epoch - 4ms/step\n",
            "Epoch 90/500\n",
            "30/30 - 0s - loss: 292.7419 - val_loss: 285.7534 - 135ms/epoch - 4ms/step\n",
            "Epoch 91/500\n",
            "30/30 - 0s - loss: 293.4089 - val_loss: 285.4517 - 138ms/epoch - 5ms/step\n",
            "Epoch 92/500\n",
            "30/30 - 0s - loss: 292.4866 - val_loss: 278.3187 - 128ms/epoch - 4ms/step\n",
            "Epoch 93/500\n",
            "30/30 - 0s - loss: 290.7254 - val_loss: 290.8913 - 129ms/epoch - 4ms/step\n",
            "Epoch 94/500\n",
            "30/30 - 0s - loss: 294.2853 - val_loss: 286.5267 - 124ms/epoch - 4ms/step\n",
            "Epoch 95/500\n",
            "30/30 - 0s - loss: 291.1588 - val_loss: 285.0208 - 127ms/epoch - 4ms/step\n",
            "Epoch 96/500\n",
            "30/30 - 0s - loss: 291.2905 - val_loss: 286.7879 - 128ms/epoch - 4ms/step\n",
            "Epoch 97/500\n",
            "30/30 - 0s - loss: 289.5903 - val_loss: 280.7340 - 123ms/epoch - 4ms/step\n",
            "Epoch 98/500\n",
            "30/30 - 0s - loss: 290.2924 - val_loss: 283.0594 - 137ms/epoch - 5ms/step\n",
            "Epoch 99/500\n",
            "30/30 - 0s - loss: 297.4997 - val_loss: 278.8103 - 127ms/epoch - 4ms/step\n",
            "Epoch 100/500\n",
            "30/30 - 0s - loss: 291.7060 - val_loss: 284.9883 - 129ms/epoch - 4ms/step\n",
            "Epoch 101/500\n",
            "30/30 - 0s - loss: 288.2015 - val_loss: 280.5369 - 126ms/epoch - 4ms/step\n",
            "Epoch 102/500\n",
            "30/30 - 0s - loss: 289.5764 - val_loss: 281.2440 - 123ms/epoch - 4ms/step\n",
            "Epoch 103/500\n",
            "30/30 - 0s - loss: 289.7264 - val_loss: 288.2223 - 127ms/epoch - 4ms/step\n",
            "Epoch 104/500\n",
            "30/30 - 0s - loss: 294.4685 - val_loss: 282.8167 - 125ms/epoch - 4ms/step\n",
            "Epoch 105/500\n",
            "30/30 - 0s - loss: 289.2914 - val_loss: 285.1296 - 123ms/epoch - 4ms/step\n",
            "Epoch 106/500\n",
            "30/30 - 0s - loss: 289.3215 - val_loss: 284.5422 - 128ms/epoch - 4ms/step\n",
            "Epoch 107/500\n",
            "30/30 - 0s - loss: 288.6077 - val_loss: 284.6978 - 138ms/epoch - 5ms/step\n",
            "Epoch 108/500\n",
            "30/30 - 0s - loss: 290.6409 - val_loss: 283.1960 - 130ms/epoch - 4ms/step\n",
            "Epoch 109/500\n",
            "30/30 - 0s - loss: 290.7146 - val_loss: 284.6913 - 120ms/epoch - 4ms/step\n",
            "Epoch 110/500\n",
            "30/30 - 0s - loss: 288.2081 - val_loss: 285.5673 - 130ms/epoch - 4ms/step\n",
            "Epoch 111/500\n",
            "30/30 - 0s - loss: 288.0869 - val_loss: 281.2454 - 127ms/epoch - 4ms/step\n",
            "Epoch 112/500\n",
            "30/30 - 0s - loss: 288.9800 - val_loss: 287.0434 - 122ms/epoch - 4ms/step\n",
            "Epoch 113/500\n",
            "30/30 - 0s - loss: 286.9082 - val_loss: 282.7173 - 123ms/epoch - 4ms/step\n",
            "Epoch 114/500\n",
            "30/30 - 0s - loss: 288.6572 - val_loss: 283.9377 - 131ms/epoch - 4ms/step\n",
            "Epoch 115/500\n",
            "30/30 - 0s - loss: 286.6736 - val_loss: 285.4777 - 132ms/epoch - 4ms/step\n",
            "Epoch 116/500\n",
            "30/30 - 0s - loss: 287.4987 - val_loss: 289.5875 - 134ms/epoch - 4ms/step\n",
            "Epoch 117/500\n",
            "30/30 - 0s - loss: 286.1125 - val_loss: 283.4922 - 125ms/epoch - 4ms/step\n",
            "Epoch 118/500\n",
            "30/30 - 0s - loss: 288.1063 - val_loss: 282.0909 - 124ms/epoch - 4ms/step\n",
            "Epoch 119/500\n",
            "30/30 - 0s - loss: 288.1562 - val_loss: 281.7323 - 129ms/epoch - 4ms/step\n",
            "Epoch 120/500\n",
            "30/30 - 0s - loss: 290.0367 - val_loss: 281.2809 - 135ms/epoch - 4ms/step\n",
            "Epoch 121/500\n",
            "30/30 - 0s - loss: 286.1866 - val_loss: 284.4285 - 122ms/epoch - 4ms/step\n",
            "Epoch 122/500\n",
            "Restoring model weights from the end of the best epoch.\n",
            "30/30 - 0s - loss: 287.0474 - val_loss: 287.1896 - 135ms/epoch - 5ms/step\n",
            "Epoch 00122: early stopping\n"
          ]
        }
      ]
    },
    {
      "cell_type": "code",
      "source": [
        "loss=model.evaluate(test_x_scaled,test_y)\n",
        "pred_y=model.predict(test_x_scaled)\n",
        "\n",
        "print('loss: ',loss)\n",
        "print('예상 강수_관측값 : ', pred_y[-1:])"
      ],
      "metadata": {
        "colab": {
          "base_uri": "https://localhost:8080/"
        },
        "id": "jqPThzBMNWkZ",
        "outputId": "c5dfcda0-7eda-43b0-d06c-ba59d82c02ad"
      },
      "execution_count": 136,
      "outputs": [
        {
          "output_type": "stream",
          "name": "stdout",
          "text": [
            "10/10 [==============================] - 0s 5ms/step - loss: 444.6830\n",
            "loss:  444.6829833984375\n",
            "예상 강수_관측값 :  [[[0.84299386]]]\n"
          ]
        }
      ]
    },
    {
      "cell_type": "markdown",
      "source": [
        "## 기온 예측"
      ],
      "metadata": {
        "id": "OgGOQhWUPb8m"
      }
    },
    {
      "cell_type": "code",
      "source": [
        "# 사용 데이터\n",
        "weather.info()\n",
        "\n",
        "# input data\n",
        "weather_input = weather[[\"강수_관측값\", \"습도\", \"체감온도\", \"평균수온\", \"평균풍속\", \"평균기압\", \"평균최대파고\", \"평균파주기\"]]\n",
        "weather_output = weather[['기온']]"
      ],
      "metadata": {
        "colab": {
          "base_uri": "https://localhost:8080/"
        },
        "id": "LvGI5ZSEPc1j",
        "outputId": "bca88028-2114-4173-9514-462e3aef1ee7"
      },
      "execution_count": 140,
      "outputs": [
        {
          "output_type": "stream",
          "name": "stdout",
          "text": [
            "<class 'pandas.core.frame.DataFrame'>\n",
            "Int64Index: 1486 entries, 0 to 1617\n",
            "Data columns (total 10 columns):\n",
            " #   Column  Non-Null Count  Dtype         \n",
            "---  ------  --------------  -----         \n",
            " 0   날짜      1486 non-null   datetime64[ns]\n",
            " 1   강수_관측값  1486 non-null   float64       \n",
            " 2   기온      1486 non-null   float64       \n",
            " 3   습도      1486 non-null   float64       \n",
            " 4   체감온도    1486 non-null   float64       \n",
            " 5   평균풍속    1486 non-null   float64       \n",
            " 6   평균기압    1486 non-null   float64       \n",
            " 7   평균수온    1486 non-null   float64       \n",
            " 8   평균최대파고  1486 non-null   float64       \n",
            " 9   평균파주기   1486 non-null   float64       \n",
            "dtypes: datetime64[ns](1), float64(9)\n",
            "memory usage: 127.7 KB\n"
          ]
        }
      ]
    },
    {
      "cell_type": "code",
      "source": [
        "# 기온 예측을 위한 train/test split\n",
        "train_x, test_x, train_y, test_y = train_test_split(weather_input.values, weather_output.values, test_size=0.2)"
      ],
      "metadata": {
        "id": "5gqP54sdPkuU"
      },
      "execution_count": 141,
      "outputs": []
    },
    {
      "cell_type": "code",
      "source": [
        "# 기온 예측을 위한  minmax scaler\n",
        "x_mm_scaler = MinMaxScaler()\n",
        "train_x_scaled = x_mm_scaler.fit_transform(train_x)\n",
        "test_x_scaled = x_mm_scaler.transform(test_x)"
      ],
      "metadata": {
        "id": "kWy7O3CtPnwB"
      },
      "execution_count": 142,
      "outputs": []
    },
    {
      "cell_type": "code",
      "source": [
        "# 기온 예측을 위한 data reshape\n",
        "train_x_scaled = train_x_scaled.reshape(-1, 1, 8)\n",
        "test_x_scaled = test_x_scaled.reshape(-1, 1, 8)"
      ],
      "metadata": {
        "id": "ZuACAETSPqdn"
      },
      "execution_count": 145,
      "outputs": []
    },
    {
      "cell_type": "code",
      "source": [
        "# 기온 예측을 위한 lstm 학습\n",
        "model=Sequential()\n",
        "model.add(LSTM(units=128, return_sequences=True, input_shape=(1,8)))\n",
        "model.add(Dense(32, activation='relu'))\n",
        "model.add(Dense(1))\n",
        "model.summary()"
      ],
      "metadata": {
        "colab": {
          "base_uri": "https://localhost:8080/"
        },
        "id": "dsRRfq5GPwHi",
        "outputId": "b7d17737-45d7-4c8d-c382-4fde450d901d"
      },
      "execution_count": 146,
      "outputs": [
        {
          "output_type": "stream",
          "name": "stdout",
          "text": [
            "Model: \"sequential_8\"\n",
            "_________________________________________________________________\n",
            " Layer (type)                Output Shape              Param #   \n",
            "=================================================================\n",
            " lstm_16 (LSTM)              (None, 1, 128)            70144     \n",
            "                                                                 \n",
            " dense_17 (Dense)            (None, 1, 32)             4128      \n",
            "                                                                 \n",
            " dense_18 (Dense)            (None, 1, 1)              33        \n",
            "                                                                 \n",
            "=================================================================\n",
            "Total params: 74,305\n",
            "Trainable params: 74,305\n",
            "Non-trainable params: 0\n",
            "_________________________________________________________________\n"
          ]
        }
      ]
    },
    {
      "cell_type": "code",
      "source": [
        "# 학습 진행\n",
        "earlyStopping = EarlyStopping(monitor='val_loss', patience=30, mode='min', verbose=1,restore_best_weights=True)\n",
        "optimizer = optimizers.Adam(learning_rate=0.001)\n",
        "model.compile(loss='mean_squared_error', optimizer=optimizer)\n",
        "hist = model.fit(train_x_scaled, train_y, epochs=500, batch_size=64, \n",
        "                validation_split=0.2,\n",
        "                callbacks = [earlyStopping],\n",
        "                verbose=2)"
      ],
      "metadata": {
        "colab": {
          "base_uri": "https://localhost:8080/"
        },
        "id": "CksAUHLHPypQ",
        "outputId": "6c04295a-fb0d-4c68-b706-96609cc80e5d"
      },
      "execution_count": 150,
      "outputs": [
        {
          "output_type": "stream",
          "name": "stdout",
          "text": [
            "Epoch 1/500\n",
            "15/15 - 3s - loss: 0.0456 - val_loss: 0.0318 - 3s/epoch - 209ms/step\n",
            "Epoch 2/500\n",
            "15/15 - 0s - loss: 0.0160 - val_loss: 0.0188 - 127ms/epoch - 8ms/step\n",
            "Epoch 3/500\n",
            "15/15 - 0s - loss: 0.0095 - val_loss: 0.0144 - 137ms/epoch - 9ms/step\n",
            "Epoch 4/500\n",
            "15/15 - 0s - loss: 0.0093 - val_loss: 0.0151 - 128ms/epoch - 9ms/step\n",
            "Epoch 5/500\n",
            "15/15 - 0s - loss: 0.0090 - val_loss: 0.0156 - 147ms/epoch - 10ms/step\n",
            "Epoch 6/500\n",
            "15/15 - 0s - loss: 0.0094 - val_loss: 0.0161 - 123ms/epoch - 8ms/step\n",
            "Epoch 7/500\n",
            "15/15 - 0s - loss: 0.0098 - val_loss: 0.0150 - 120ms/epoch - 8ms/step\n",
            "Epoch 8/500\n",
            "15/15 - 0s - loss: 0.0094 - val_loss: 0.0142 - 121ms/epoch - 8ms/step\n",
            "Epoch 9/500\n",
            "15/15 - 0s - loss: 0.0094 - val_loss: 0.0144 - 131ms/epoch - 9ms/step\n",
            "Epoch 10/500\n",
            "15/15 - 0s - loss: 0.0093 - val_loss: 0.0147 - 128ms/epoch - 9ms/step\n",
            "Epoch 11/500\n",
            "15/15 - 0s - loss: 0.0094 - val_loss: 0.0145 - 122ms/epoch - 8ms/step\n",
            "Epoch 12/500\n",
            "15/15 - 0s - loss: 0.0094 - val_loss: 0.0142 - 138ms/epoch - 9ms/step\n",
            "Epoch 13/500\n",
            "15/15 - 0s - loss: 0.0090 - val_loss: 0.0142 - 156ms/epoch - 10ms/step\n",
            "Epoch 14/500\n",
            "15/15 - 0s - loss: 0.0088 - val_loss: 0.0141 - 141ms/epoch - 9ms/step\n",
            "Epoch 15/500\n",
            "15/15 - 0s - loss: 0.0092 - val_loss: 0.0144 - 128ms/epoch - 9ms/step\n",
            "Epoch 16/500\n",
            "15/15 - 0s - loss: 0.0089 - val_loss: 0.0145 - 144ms/epoch - 10ms/step\n",
            "Epoch 17/500\n",
            "15/15 - 0s - loss: 0.0092 - val_loss: 0.0185 - 133ms/epoch - 9ms/step\n",
            "Epoch 18/500\n",
            "15/15 - 0s - loss: 0.0115 - val_loss: 0.0142 - 125ms/epoch - 8ms/step\n",
            "Epoch 19/500\n",
            "15/15 - 0s - loss: 0.0094 - val_loss: 0.0155 - 123ms/epoch - 8ms/step\n",
            "Epoch 20/500\n",
            "15/15 - 0s - loss: 0.0089 - val_loss: 0.0141 - 145ms/epoch - 10ms/step\n",
            "Epoch 21/500\n",
            "15/15 - 0s - loss: 0.0094 - val_loss: 0.0141 - 133ms/epoch - 9ms/step\n",
            "Epoch 22/500\n",
            "15/15 - 0s - loss: 0.0097 - val_loss: 0.0158 - 127ms/epoch - 8ms/step\n",
            "Epoch 23/500\n",
            "15/15 - 0s - loss: 0.0091 - val_loss: 0.0154 - 128ms/epoch - 9ms/step\n",
            "Epoch 24/500\n",
            "15/15 - 0s - loss: 0.0091 - val_loss: 0.0146 - 139ms/epoch - 9ms/step\n",
            "Epoch 25/500\n",
            "15/15 - 0s - loss: 0.0095 - val_loss: 0.0142 - 163ms/epoch - 11ms/step\n",
            "Epoch 26/500\n",
            "15/15 - 0s - loss: 0.0096 - val_loss: 0.0178 - 127ms/epoch - 8ms/step\n",
            "Epoch 27/500\n",
            "15/15 - 0s - loss: 0.0097 - val_loss: 0.0141 - 150ms/epoch - 10ms/step\n",
            "Epoch 28/500\n",
            "15/15 - 0s - loss: 0.0098 - val_loss: 0.0141 - 125ms/epoch - 8ms/step\n",
            "Epoch 29/500\n",
            "15/15 - 0s - loss: 0.0101 - val_loss: 0.0154 - 122ms/epoch - 8ms/step\n",
            "Epoch 30/500\n",
            "15/15 - 0s - loss: 0.0100 - val_loss: 0.0151 - 120ms/epoch - 8ms/step\n",
            "Epoch 31/500\n",
            "15/15 - 0s - loss: 0.0104 - val_loss: 0.0189 - 130ms/epoch - 9ms/step\n",
            "Epoch 32/500\n",
            "15/15 - 0s - loss: 0.0093 - val_loss: 0.0142 - 127ms/epoch - 8ms/step\n",
            "Epoch 33/500\n",
            "15/15 - 0s - loss: 0.0090 - val_loss: 0.0153 - 137ms/epoch - 9ms/step\n",
            "Epoch 34/500\n",
            "15/15 - 0s - loss: 0.0094 - val_loss: 0.0141 - 123ms/epoch - 8ms/step\n",
            "Epoch 35/500\n",
            "15/15 - 0s - loss: 0.0090 - val_loss: 0.0169 - 127ms/epoch - 8ms/step\n",
            "Epoch 36/500\n",
            "15/15 - 0s - loss: 0.0113 - val_loss: 0.0185 - 123ms/epoch - 8ms/step\n",
            "Epoch 37/500\n",
            "15/15 - 0s - loss: 0.0102 - val_loss: 0.0147 - 131ms/epoch - 9ms/step\n",
            "Epoch 38/500\n",
            "15/15 - 0s - loss: 0.0095 - val_loss: 0.0146 - 123ms/epoch - 8ms/step\n",
            "Epoch 39/500\n",
            "15/15 - 0s - loss: 0.0107 - val_loss: 0.0172 - 119ms/epoch - 8ms/step\n",
            "Epoch 40/500\n",
            "15/15 - 0s - loss: 0.0095 - val_loss: 0.0141 - 126ms/epoch - 8ms/step\n",
            "Epoch 41/500\n",
            "15/15 - 0s - loss: 0.0093 - val_loss: 0.0143 - 122ms/epoch - 8ms/step\n",
            "Epoch 42/500\n",
            "15/15 - 0s - loss: 0.0101 - val_loss: 0.0206 - 132ms/epoch - 9ms/step\n",
            "Epoch 43/500\n",
            "15/15 - 0s - loss: 0.0097 - val_loss: 0.0163 - 130ms/epoch - 9ms/step\n",
            "Epoch 44/500\n",
            "15/15 - 0s - loss: 0.0102 - val_loss: 0.0146 - 129ms/epoch - 9ms/step\n",
            "Epoch 45/500\n",
            "15/15 - 0s - loss: 0.0093 - val_loss: 0.0160 - 136ms/epoch - 9ms/step\n",
            "Epoch 46/500\n",
            "15/15 - 0s - loss: 0.0128 - val_loss: 0.0153 - 116ms/epoch - 8ms/step\n",
            "Epoch 47/500\n",
            "15/15 - 0s - loss: 0.0113 - val_loss: 0.0157 - 126ms/epoch - 8ms/step\n",
            "Epoch 48/500\n",
            "15/15 - 0s - loss: 0.0090 - val_loss: 0.0143 - 133ms/epoch - 9ms/step\n",
            "Epoch 49/500\n",
            "15/15 - 0s - loss: 0.0087 - val_loss: 0.0144 - 118ms/epoch - 8ms/step\n",
            "Epoch 50/500\n",
            "15/15 - 0s - loss: 0.0097 - val_loss: 0.0211 - 136ms/epoch - 9ms/step\n",
            "Epoch 51/500\n",
            "15/15 - 0s - loss: 0.0107 - val_loss: 0.0138 - 130ms/epoch - 9ms/step\n",
            "Epoch 52/500\n",
            "15/15 - 0s - loss: 0.0090 - val_loss: 0.0139 - 130ms/epoch - 9ms/step\n",
            "Epoch 53/500\n",
            "15/15 - 0s - loss: 0.0090 - val_loss: 0.0146 - 128ms/epoch - 9ms/step\n",
            "Epoch 54/500\n",
            "15/15 - 0s - loss: 0.0096 - val_loss: 0.0148 - 125ms/epoch - 8ms/step\n",
            "Epoch 55/500\n",
            "15/15 - 0s - loss: 0.0100 - val_loss: 0.0152 - 125ms/epoch - 8ms/step\n",
            "Epoch 56/500\n",
            "15/15 - 0s - loss: 0.0089 - val_loss: 0.0140 - 137ms/epoch - 9ms/step\n",
            "Epoch 57/500\n",
            "15/15 - 0s - loss: 0.0104 - val_loss: 0.0167 - 124ms/epoch - 8ms/step\n",
            "Epoch 58/500\n",
            "15/15 - 0s - loss: 0.0111 - val_loss: 0.0161 - 137ms/epoch - 9ms/step\n",
            "Epoch 59/500\n",
            "15/15 - 0s - loss: 0.0105 - val_loss: 0.0141 - 131ms/epoch - 9ms/step\n",
            "Epoch 60/500\n",
            "15/15 - 0s - loss: 0.0091 - val_loss: 0.0140 - 126ms/epoch - 8ms/step\n",
            "Epoch 61/500\n",
            "15/15 - 0s - loss: 0.0090 - val_loss: 0.0143 - 132ms/epoch - 9ms/step\n",
            "Epoch 62/500\n",
            "15/15 - 0s - loss: 0.0093 - val_loss: 0.0143 - 129ms/epoch - 9ms/step\n",
            "Epoch 63/500\n",
            "15/15 - 0s - loss: 0.0095 - val_loss: 0.0203 - 132ms/epoch - 9ms/step\n",
            "Epoch 64/500\n",
            "15/15 - 0s - loss: 0.0099 - val_loss: 0.0139 - 120ms/epoch - 8ms/step\n",
            "Epoch 65/500\n",
            "15/15 - 0s - loss: 0.0091 - val_loss: 0.0158 - 140ms/epoch - 9ms/step\n",
            "Epoch 66/500\n",
            "15/15 - 0s - loss: 0.0114 - val_loss: 0.0187 - 149ms/epoch - 10ms/step\n",
            "Epoch 67/500\n",
            "15/15 - 0s - loss: 0.0098 - val_loss: 0.0143 - 128ms/epoch - 9ms/step\n",
            "Epoch 68/500\n",
            "15/15 - 0s - loss: 0.0093 - val_loss: 0.0139 - 137ms/epoch - 9ms/step\n",
            "Epoch 69/500\n",
            "15/15 - 0s - loss: 0.0097 - val_loss: 0.0154 - 118ms/epoch - 8ms/step\n",
            "Epoch 70/500\n",
            "15/15 - 0s - loss: 0.0095 - val_loss: 0.0141 - 123ms/epoch - 8ms/step\n",
            "Epoch 71/500\n",
            "15/15 - 0s - loss: 0.0092 - val_loss: 0.0142 - 141ms/epoch - 9ms/step\n",
            "Epoch 72/500\n",
            "15/15 - 0s - loss: 0.0097 - val_loss: 0.0151 - 127ms/epoch - 8ms/step\n",
            "Epoch 73/500\n",
            "15/15 - 0s - loss: 0.0092 - val_loss: 0.0142 - 145ms/epoch - 10ms/step\n",
            "Epoch 74/500\n",
            "15/15 - 0s - loss: 0.0088 - val_loss: 0.0141 - 124ms/epoch - 8ms/step\n",
            "Epoch 75/500\n",
            "15/15 - 0s - loss: 0.0089 - val_loss: 0.0140 - 120ms/epoch - 8ms/step\n",
            "Epoch 76/500\n",
            "15/15 - 0s - loss: 0.0093 - val_loss: 0.0141 - 137ms/epoch - 9ms/step\n",
            "Epoch 77/500\n",
            "15/15 - 0s - loss: 0.0091 - val_loss: 0.0139 - 128ms/epoch - 9ms/step\n",
            "Epoch 78/500\n",
            "15/15 - 0s - loss: 0.0096 - val_loss: 0.0140 - 120ms/epoch - 8ms/step\n",
            "Epoch 79/500\n",
            "15/15 - 0s - loss: 0.0094 - val_loss: 0.0141 - 120ms/epoch - 8ms/step\n",
            "Epoch 80/500\n",
            "15/15 - 0s - loss: 0.0094 - val_loss: 0.0199 - 126ms/epoch - 8ms/step\n",
            "Epoch 81/500\n",
            "Restoring model weights from the end of the best epoch.\n",
            "15/15 - 0s - loss: 0.0096 - val_loss: 0.0161 - 136ms/epoch - 9ms/step\n",
            "Epoch 00081: early stopping\n"
          ]
        }
      ]
    },
    {
      "cell_type": "code",
      "source": [
        "loss=model.evaluate(test_x_scaled,test_y)\n",
        "pred_y=model.predict(test_x_scaled)\n",
        "\n",
        "print('loss: ',loss)\n",
        "print('예상 기온 예측값 : ', pred_y[-1:])"
      ],
      "metadata": {
        "colab": {
          "base_uri": "https://localhost:8080/"
        },
        "id": "9fTqhRSyPzyt",
        "outputId": "c119fbbc-0408-4910-a776-09c50064d9ef"
      },
      "execution_count": 151,
      "outputs": [
        {
          "output_type": "stream",
          "name": "stdout",
          "text": [
            "10/10 [==============================] - 0s 3ms/step - loss: 0.0106\n",
            "loss:  0.010564546100795269\n",
            "예상 기온 예측값 :  [[[25.737276]]]\n"
          ]
        }
      ]
    },
    {
      "cell_type": "code",
      "source": [
        ""
      ],
      "metadata": {
        "id": "INDjDBLLRXCy"
      },
      "execution_count": null,
      "outputs": []
    },
    {
      "cell_type": "code",
      "source": [
        ""
      ],
      "metadata": {
        "id": "RPD3Ax6OQIZz"
      },
      "execution_count": null,
      "outputs": []
    }
  ]
}