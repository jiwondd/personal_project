{
  "nbformat": 4,
  "nbformat_minor": 0,
  "metadata": {
    "colab": {
      "name": "pro_practice_07.ipynb",
      "provenance": [],
      "collapsed_sections": []
    },
    "kernelspec": {
      "name": "python3",
      "display_name": "Python 3"
    },
    "language_info": {
      "name": "python"
    }
  },
  "cells": [
    {
      "cell_type": "code",
      "source": [
        "from google.colab import drive\n",
        "drive.mount('/content/drive/')"
      ],
      "metadata": {
        "colab": {
          "base_uri": "https://localhost:8080/"
        },
        "id": "OpjjsAVt7RIX",
        "outputId": "28f9b2a5-80b1-4121-c6c3-b1af9a4e5934"
      },
      "execution_count": null,
      "outputs": [
        {
          "output_type": "stream",
          "name": "stdout",
          "text": [
            "Mounted at /content/drive/\n"
          ]
        }
      ]
    },
    {
      "cell_type": "code",
      "source": [
        "import numpy as np\n",
        "import pandas as pd\n",
        "from tensorflow.python.keras.models import Sequential, Model\n",
        "from tensorflow.python.keras.layers import Dense, LSTM, Dropout, Input\n",
        "from tensorflow.keras.layers import Bidirectional\n",
        "from sklearn.model_selection import train_test_split\n",
        "from sklearn.metrics import r2_score, mean_squared_error, mean_absolute_error\n",
        "import math\n",
        "import matplotlib.pyplot as plt\n",
        "from sklearn.preprocessing import MinMaxScaler,StandardScaler\n",
        "from sklearn.preprocessing import MaxAbsScaler,RobustScaler\n",
        "from tensorflow.python.keras.callbacks import EarlyStopping, ModelCheckpoint\n",
        "import datetime\n",
        "import time\n",
        "from sklearn.model_selection import train_test_split\n",
        "import inspect, os"
      ],
      "metadata": {
        "id": "qzqIEiYO7Vda"
      },
      "execution_count": null,
      "outputs": []
    },
    {
      "cell_type": "code",
      "source": [
        "import os, pandas as pd\n",
        "os.chdir('/content/drive/MyDrive/jiwon')\n",
        "\n",
        "weather = pd.read_csv('해운대 날씨.csv')\n",
        "customer = pd.read_csv('해운대 입장객수.csv')"
      ],
      "metadata": {
        "id": "RkeOBu5B7kNk"
      },
      "execution_count": null,
      "outputs": []
    },
    {
      "cell_type": "code",
      "source": [
        "weather.head(5),weather.shape"
      ],
      "metadata": {
        "colab": {
          "base_uri": "https://localhost:8080/"
        },
        "id": "0VmjGy2O7ncS",
        "outputId": "f90000e4-a204-4378-f4fe-7fb5904dc17e"
      },
      "execution_count": null,
      "outputs": [
        {
          "output_type": "execute_result",
          "data": {
            "text/plain": [
              "(           날짜  강수_관측값    기온    습도  체감온도  평균풍속    평균기압  평균수온  평균최대파고  평균파주기\n",
              " 0  2012-05-01    10.5  20.4  62.1  21.5   6.5  1009.0  15.2     1.2    4.8\n",
              " 1  2012-05-02     1.0  19.6  70.5  21.4   7.8  1004.0  15.5     2.1    5.7\n",
              " 2  2012-05-03     0.1  20.7  77.5  22.9   4.1  1004.0  16.4     1.9    6.6\n",
              " 3  2012-05-04     0.0  19.9  70.7  21.7   4.1  1006.5  16.4     1.6    7.5\n",
              " 4  2012-05-05     0.0  24.8  47.2  24.7   6.1  1004.9  15.8     1.9    7.8,\n",
              " (1618, 10))"
            ]
          },
          "metadata": {},
          "execution_count": 17
        }
      ]
    },
    {
      "cell_type": "code",
      "source": [
        "# 날짜를 date type으로 변경 후, 나머지는 numeric type으로 변경\n",
        "weather['날짜'] = pd.to_datetime(weather['날짜'], infer_datetime_format=True)\n",
        "weather.iloc[:,1:] = weather.iloc[:,1:].apply(pd.to_numeric)\n",
        "\n",
        "customer['방문일'] = pd.to_datetime(customer['방문일'], infer_datetime_format=True)\n",
        "customer['방문객수(명)'] = customer['방문객수(명)'].str.replace(\",\",\"\")\n",
        "customer.iloc[:,1:] = customer.iloc[:,1:].apply(pd.to_numeric)"
      ],
      "metadata": {
        "id": "NUD_DhQL7pJC"
      },
      "execution_count": null,
      "outputs": []
    },
    {
      "cell_type": "code",
      "source": [
        "# weather data filtering\n",
        "weather = weather[(weather['날짜'] >= '2021-06-01') & (weather['날짜'] <= '2021-08-31')].reset_index(drop=True)\n",
        "# customer data drop_duplicates\n",
        "customer = customer.drop_duplicates().reset_index(drop=True)"
      ],
      "metadata": {
        "id": "zoCGEcHt7rE4"
      },
      "execution_count": null,
      "outputs": []
    },
    {
      "cell_type": "code",
      "source": [
        "# merge data\n",
        "total_data = pd.merge(weather, customer, left_on='날짜', right_on=\"방문일\", how='inner')\n",
        "total_data = total_data[['강수_관측값', \"기온\", \"습도\", \"체감온도\", \"평균수온\", \"평균풍속\", \"평균기압\", \"평균최대파고\", \"방문객수(명)\"]]"
      ],
      "metadata": {
        "id": "O2Ypeyle7tha"
      },
      "execution_count": null,
      "outputs": []
    },
    {
      "cell_type": "code",
      "source": [
        "# train/test split\n",
        "train_x, test_x, train_y, test_y = train_test_split(total_data.iloc[:, :-1], total_data['방문객수(명)'], test_size=0.2)"
      ],
      "metadata": {
        "id": "vRxlDhr674tX"
      },
      "execution_count": null,
      "outputs": []
    },
    {
      "cell_type": "code",
      "source": [
        "# minmax scaler\n",
        "x_mm_scaler = MinMaxScaler()\n",
        "train_x_scaled = x_mm_scaler.fit_transform(train_x)\n",
        "test_x_scaled = x_mm_scaler.transform(test_x)"
      ],
      "metadata": {
        "id": "fHYoF3o377lr"
      },
      "execution_count": null,
      "outputs": []
    },
    {
      "cell_type": "code",
      "source": [
        "test_x_scaled.shape"
      ],
      "metadata": {
        "colab": {
          "base_uri": "https://localhost:8080/"
        },
        "id": "m-yFwaiU79iT",
        "outputId": "1aa6f8ea-d46b-44e5-9ad3-7efe87c246a7"
      },
      "execution_count": null,
      "outputs": [
        {
          "output_type": "execute_result",
          "data": {
            "text/plain": [
              "(19, 8)"
            ]
          },
          "metadata": {},
          "execution_count": 22
        }
      ]
    },
    {
      "cell_type": "code",
      "source": [
        "model=Sequential()\n",
        "model.add(Dense(32,input_dim=8))\n",
        "model.add(Dense(64,activation='relu'))\n",
        "model.add(Dense(128,activation='relu'))\n",
        "model.add(Dense(64,activation='relu'))\n",
        "model.add(Dense(32,activation='relu'))\n",
        "model.add(Dense(16,activation='relu'))\n",
        "model.add(Dense(1))\n",
        "model.summary()"
      ],
      "metadata": {
        "colab": {
          "base_uri": "https://localhost:8080/"
        },
        "id": "f1D1b0cm7_CF",
        "outputId": "6c921d1b-3a2d-4b51-a82e-ee166d09bb53"
      },
      "execution_count": null,
      "outputs": [
        {
          "output_type": "stream",
          "name": "stdout",
          "text": [
            "Model: \"sequential_1\"\n",
            "_________________________________________________________________\n",
            "Layer (type)                 Output Shape              Param #   \n",
            "=================================================================\n",
            "dense_7 (Dense)              (None, 32)                288       \n",
            "_________________________________________________________________\n",
            "dense_8 (Dense)              (None, 64)                2112      \n",
            "_________________________________________________________________\n",
            "dense_9 (Dense)              (None, 128)               8320      \n",
            "_________________________________________________________________\n",
            "dense_10 (Dense)             (None, 64)                8256      \n",
            "_________________________________________________________________\n",
            "dense_11 (Dense)             (None, 32)                2080      \n",
            "_________________________________________________________________\n",
            "dense_12 (Dense)             (None, 16)                528       \n",
            "_________________________________________________________________\n",
            "dense_13 (Dense)             (None, 1)                 17        \n",
            "=================================================================\n",
            "Total params: 21,601\n",
            "Trainable params: 21,601\n",
            "Non-trainable params: 0\n",
            "_________________________________________________________________\n"
          ]
        }
      ]
    },
    {
      "cell_type": "code",
      "source": [
        "model.compile(loss='mse',optimizer='adam')\n",
        "model.fit(train_x_scaled,train_y,epochs=50,batch_size=16,validation_split=0.2)"
      ],
      "metadata": {
        "colab": {
          "base_uri": "https://localhost:8080/"
        },
        "id": "4XWlUKd38Amv",
        "outputId": "9037413d-203a-4112-9053-d60a2468d3e9"
      },
      "execution_count": null,
      "outputs": [
        {
          "output_type": "stream",
          "name": "stdout",
          "text": [
            "Epoch 1/50\n",
            "4/4 [==============================] - 1s 58ms/step - loss: 5874221056.0000 - val_loss: 1541625216.0000\n",
            "Epoch 2/50\n",
            "4/4 [==============================] - 0s 20ms/step - loss: 5874192896.0000 - val_loss: 1541601920.0000\n",
            "Epoch 3/50\n",
            "4/4 [==============================] - 0s 15ms/step - loss: 5874147840.0000 - val_loss: 1541565056.0000\n",
            "Epoch 4/50\n",
            "4/4 [==============================] - 0s 13ms/step - loss: 5874067456.0000 - val_loss: 1541503488.0000\n",
            "Epoch 5/50\n",
            "4/4 [==============================] - 0s 11ms/step - loss: 5873955840.0000 - val_loss: 1541401472.0000\n",
            "Epoch 6/50\n",
            "4/4 [==============================] - 0s 12ms/step - loss: 5873735680.0000 - val_loss: 1541231232.0000\n",
            "Epoch 7/50\n",
            "4/4 [==============================] - 0s 10ms/step - loss: 5873416704.0000 - val_loss: 1540952064.0000\n",
            "Epoch 8/50\n",
            "4/4 [==============================] - 0s 10ms/step - loss: 5872815616.0000 - val_loss: 1540487680.0000\n",
            "Epoch 9/50\n",
            "4/4 [==============================] - 0s 11ms/step - loss: 5871954432.0000 - val_loss: 1539721856.0000\n",
            "Epoch 10/50\n",
            "4/4 [==============================] - 0s 11ms/step - loss: 5870373888.0000 - val_loss: 1538484096.0000\n",
            "Epoch 11/50\n",
            "4/4 [==============================] - 0s 12ms/step - loss: 5867791360.0000 - val_loss: 1536487424.0000\n",
            "Epoch 12/50\n",
            "4/4 [==============================] - 0s 12ms/step - loss: 5863909888.0000 - val_loss: 1533276160.0000\n",
            "Epoch 13/50\n",
            "4/4 [==============================] - 0s 12ms/step - loss: 5857492480.0000 - val_loss: 1528249600.0000\n",
            "Epoch 14/50\n",
            "4/4 [==============================] - 0s 12ms/step - loss: 5847213056.0000 - val_loss: 1520596608.0000\n",
            "Epoch 15/50\n",
            "4/4 [==============================] - 0s 11ms/step - loss: 5832284672.0000 - val_loss: 1508710144.0000\n",
            "Epoch 16/50\n",
            "4/4 [==============================] - 0s 12ms/step - loss: 5810060288.0000 - val_loss: 1490738432.0000\n",
            "Epoch 17/50\n",
            "4/4 [==============================] - 0s 11ms/step - loss: 5774495232.0000 - val_loss: 1464373504.0000\n",
            "Epoch 18/50\n",
            "4/4 [==============================] - 0s 13ms/step - loss: 5720114176.0000 - val_loss: 1426780032.0000\n",
            "Epoch 19/50\n",
            "4/4 [==============================] - 0s 12ms/step - loss: 5653467648.0000 - val_loss: 1372719616.0000\n",
            "Epoch 20/50\n",
            "4/4 [==============================] - 0s 15ms/step - loss: 5544689664.0000 - val_loss: 1297411584.0000\n",
            "Epoch 21/50\n",
            "4/4 [==============================] - 0s 11ms/step - loss: 5413324800.0000 - val_loss: 1195413760.0000\n",
            "Epoch 22/50\n",
            "4/4 [==============================] - 0s 11ms/step - loss: 5200385024.0000 - val_loss: 1061610560.0000\n",
            "Epoch 23/50\n",
            "4/4 [==============================] - 0s 12ms/step - loss: 4956572672.0000 - val_loss: 891528960.0000\n",
            "Epoch 24/50\n",
            "4/4 [==============================] - 0s 13ms/step - loss: 4594248192.0000 - val_loss: 689355648.0000\n",
            "Epoch 25/50\n",
            "4/4 [==============================] - 0s 17ms/step - loss: 4241386752.0000 - val_loss: 467112672.0000\n",
            "Epoch 26/50\n",
            "4/4 [==============================] - 0s 13ms/step - loss: 3731996672.0000 - val_loss: 265459056.0000\n",
            "Epoch 27/50\n",
            "4/4 [==============================] - 0s 15ms/step - loss: 3274867456.0000 - val_loss: 136946016.0000\n",
            "Epoch 28/50\n",
            "4/4 [==============================] - 0s 12ms/step - loss: 2845278720.0000 - val_loss: 172145456.0000\n",
            "Epoch 29/50\n",
            "4/4 [==============================] - 0s 12ms/step - loss: 2661368064.0000 - val_loss: 402045888.0000\n",
            "Epoch 30/50\n",
            "4/4 [==============================] - 0s 12ms/step - loss: 2665860864.0000 - val_loss: 604147840.0000\n",
            "Epoch 31/50\n",
            "4/4 [==============================] - 0s 11ms/step - loss: 2724514560.0000 - val_loss: 609781504.0000\n",
            "Epoch 32/50\n",
            "4/4 [==============================] - 0s 12ms/step - loss: 2703822336.0000 - val_loss: 495059008.0000\n",
            "Epoch 33/50\n",
            "4/4 [==============================] - 0s 16ms/step - loss: 2655584000.0000 - val_loss: 354650176.0000\n",
            "Epoch 34/50\n",
            "4/4 [==============================] - 0s 11ms/step - loss: 2626438912.0000 - val_loss: 271250720.0000\n",
            "Epoch 35/50\n",
            "4/4 [==============================] - 0s 12ms/step - loss: 2620817152.0000 - val_loss: 239355216.0000\n",
            "Epoch 36/50\n",
            "4/4 [==============================] - 0s 14ms/step - loss: 2617920000.0000 - val_loss: 245626368.0000\n",
            "Epoch 37/50\n",
            "4/4 [==============================] - 0s 11ms/step - loss: 2621634816.0000 - val_loss: 266027760.0000\n",
            "Epoch 38/50\n",
            "4/4 [==============================] - 0s 12ms/step - loss: 2598187776.0000 - val_loss: 263131856.0000\n",
            "Epoch 39/50\n",
            "4/4 [==============================] - 0s 11ms/step - loss: 2601837312.0000 - val_loss: 260711696.0000\n",
            "Epoch 40/50\n",
            "4/4 [==============================] - 0s 11ms/step - loss: 2592683776.0000 - val_loss: 268925760.0000\n",
            "Epoch 41/50\n",
            "4/4 [==============================] - 0s 10ms/step - loss: 2582555136.0000 - val_loss: 285855808.0000\n",
            "Epoch 42/50\n",
            "4/4 [==============================] - 0s 12ms/step - loss: 2579123968.0000 - val_loss: 289230880.0000\n",
            "Epoch 43/50\n",
            "4/4 [==============================] - 0s 12ms/step - loss: 2573480704.0000 - val_loss: 306142656.0000\n",
            "Epoch 44/50\n",
            "4/4 [==============================] - 0s 11ms/step - loss: 2566390784.0000 - val_loss: 304957728.0000\n",
            "Epoch 45/50\n",
            "4/4 [==============================] - 0s 10ms/step - loss: 2565206528.0000 - val_loss: 295450560.0000\n",
            "Epoch 46/50\n",
            "4/4 [==============================] - 0s 13ms/step - loss: 2563247616.0000 - val_loss: 295323456.0000\n",
            "Epoch 47/50\n",
            "4/4 [==============================] - 0s 11ms/step - loss: 2553521664.0000 - val_loss: 284522816.0000\n",
            "Epoch 48/50\n",
            "4/4 [==============================] - 0s 11ms/step - loss: 2548416768.0000 - val_loss: 268315984.0000\n",
            "Epoch 49/50\n",
            "4/4 [==============================] - 0s 11ms/step - loss: 2551540480.0000 - val_loss: 242214464.0000\n",
            "Epoch 50/50\n",
            "4/4 [==============================] - 0s 11ms/step - loss: 2556838400.0000 - val_loss: 259184384.0000\n"
          ]
        },
        {
          "output_type": "execute_result",
          "data": {
            "text/plain": [
              "<tensorflow.python.keras.callbacks.History at 0x7f1c7cfbe310>"
            ]
          },
          "metadata": {},
          "execution_count": 24
        }
      ]
    },
    {
      "cell_type": "code",
      "source": [
        "loss=model.evaluate(test_x,test_y)\n",
        "pred_y=model.predict(test_x)\n",
        "\n",
        "print('loss: ',loss)\n",
        "print('예상 입장객 수: ', pred_y[-1:])"
      ],
      "metadata": {
        "colab": {
          "base_uri": "https://localhost:8080/"
        },
        "id": "pjfsoSIq8CR2",
        "outputId": "b6da152f-1927-4d26-d00e-1f5ab66bf910"
      },
      "execution_count": null,
      "outputs": [
        {
          "output_type": "stream",
          "name": "stdout",
          "text": [
            "1/1 [==============================] - 0s 129ms/step - loss: 43397800787968.0000\n",
            "loss:  43397800787968.0\n",
            "예상 입장객 수:  [[6684275.]]\n"
          ]
        }
      ]
    },
    {
      "cell_type": "code",
      "source": [
        ""
      ],
      "metadata": {
        "id": "TlE8fcoX8HXp"
      },
      "execution_count": null,
      "outputs": []
    }
  ]
}